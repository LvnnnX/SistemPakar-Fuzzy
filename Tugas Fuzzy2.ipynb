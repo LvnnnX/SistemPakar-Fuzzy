{
 "cells": [
  {
   "cell_type": "code",
   "execution_count": 1,
   "metadata": {},
   "outputs": [],
   "source": [
    "import pandas as pd\n",
    "from pathlib import Path\n",
    "import matplotlib.pyplot as plt\n",
    "from tqdm import tqdm\n",
    "import numpy as np\n",
    "\n",
    "__PATH__ = Path().parent\n",
    "__DATA__ = __PATH__ / 'db'\n",
    "\n",
    "def load_data(ref:str='hasil hasil belajar', type:str='xlsx', sheet:int=2) -> pd.DataFrame :\n",
    "    \"\"\"\n",
    "    \n",
    "    Fungsi ini mengembalikan data yang dibutuhkan untuk tugas Fuzzy Logic (Rules)\n",
    "    ref : str \n",
    "        Nama file yang akan di load | default : 'hasil hasil belajar.xlsx'\n",
    "    type : str {'xlsx','csv'}\n",
    "        Tipe file yang akan di load | default : 'xlsx'\n",
    "    sheet : int\n",
    "        Sheet yang akan di load | default : 2\n",
    "    \n",
    "    Output : pd.DataFrame\n",
    "    \n",
    "    \"\"\"\n",
    "    try : \n",
    "        if type == 'xlsx' : \n",
    "            output = pd.read_excel(__DATA__ / f'{ref}.xlsx', sheet_name=sheet)\n",
    "        elif type == 'csv' : \n",
    "            output = pd.read_csv(__DATA__ / f'{ref}.csv', sheet_name=sheet)\n",
    "        else : \n",
    "            raise ValueError(f'Tipe file {type} tidak dikenal')\n",
    "    except : \n",
    "        raise FileNotFoundError(f'File {ref} tidak ditemukan')\n",
    "        # print(f'File {ref} tidak ditemukan')\n",
    "    \n",
    "    return output\n",
    "    \n"
   ]
  },
  {
   "cell_type": "code",
   "execution_count": 2,
   "metadata": {},
   "outputs": [
    {
     "data": {
      "text/html": [
       "<div>\n",
       "<style scoped>\n",
       "    .dataframe tbody tr th:only-of-type {\n",
       "        vertical-align: middle;\n",
       "    }\n",
       "\n",
       "    .dataframe tbody tr th {\n",
       "        vertical-align: top;\n",
       "    }\n",
       "\n",
       "    .dataframe thead th {\n",
       "        text-align: right;\n",
       "    }\n",
       "</style>\n",
       "<table border=\"1\" class=\"dataframe\">\n",
       "  <thead>\n",
       "    <tr style=\"text-align: right;\">\n",
       "      <th></th>\n",
       "      <th>Unnamed: 0</th>\n",
       "      <th>rata2 Lama akses materi</th>\n",
       "      <th>lama_berlatih (min 5, mak 15)</th>\n",
       "      <th>nilai</th>\n",
       "      <th>lulus</th>\n",
       "      <th>kepercayaan</th>\n",
       "    </tr>\n",
       "  </thead>\n",
       "  <tbody>\n",
       "    <tr>\n",
       "      <th>0</th>\n",
       "      <td>NaN</td>\n",
       "      <td>kecil</td>\n",
       "      <td>kecil</td>\n",
       "      <td>kecil</td>\n",
       "      <td>tidak lulus</td>\n",
       "      <td>100</td>\n",
       "    </tr>\n",
       "    <tr>\n",
       "      <th>1</th>\n",
       "      <td>NaN</td>\n",
       "      <td>kecil</td>\n",
       "      <td>kecil</td>\n",
       "      <td>sedang</td>\n",
       "      <td>tidak lulus</td>\n",
       "      <td>100</td>\n",
       "    </tr>\n",
       "    <tr>\n",
       "      <th>2</th>\n",
       "      <td>NaN</td>\n",
       "      <td>kecil</td>\n",
       "      <td>kecil</td>\n",
       "      <td>besar</td>\n",
       "      <td>tidak lulus</td>\n",
       "      <td>95</td>\n",
       "    </tr>\n",
       "    <tr>\n",
       "      <th>3</th>\n",
       "      <td>NaN</td>\n",
       "      <td>kecil</td>\n",
       "      <td>sedang</td>\n",
       "      <td>kecil</td>\n",
       "      <td>tidak lulus</td>\n",
       "      <td>100</td>\n",
       "    </tr>\n",
       "    <tr>\n",
       "      <th>4</th>\n",
       "      <td>NaN</td>\n",
       "      <td>kecil</td>\n",
       "      <td>sedang</td>\n",
       "      <td>sedang</td>\n",
       "      <td>tidak lulus</td>\n",
       "      <td>95</td>\n",
       "    </tr>\n",
       "  </tbody>\n",
       "</table>\n",
       "</div>"
      ],
      "text/plain": [
       "   Unnamed: 0 rata2 Lama akses materi lama_berlatih (min 5, mak 15)   nilai  \\\n",
       "0         NaN                   kecil                         kecil   kecil   \n",
       "1         NaN                   kecil                         kecil  sedang   \n",
       "2         NaN                   kecil                         kecil   besar   \n",
       "3         NaN                   kecil                        sedang   kecil   \n",
       "4         NaN                   kecil                        sedang  sedang   \n",
       "\n",
       "         lulus  kepercayaan  \n",
       "0  tidak lulus          100  \n",
       "1  tidak lulus          100  \n",
       "2  tidak lulus           95  \n",
       "3  tidak lulus          100  \n",
       "4  tidak lulus           95  "
      ]
     },
     "execution_count": 2,
     "metadata": {},
     "output_type": "execute_result"
    }
   ],
   "source": [
    "df = load_data()\n",
    "df.head()"
   ]
  },
  {
   "cell_type": "code",
   "execution_count": 3,
   "metadata": {},
   "outputs": [],
   "source": [
    "df.drop(columns=['Unnamed: 0'], inplace=True)"
   ]
  },
  {
   "cell_type": "code",
   "execution_count": 4,
   "metadata": {},
   "outputs": [
    {
     "data": {
      "text/html": [
       "<div>\n",
       "<style scoped>\n",
       "    .dataframe tbody tr th:only-of-type {\n",
       "        vertical-align: middle;\n",
       "    }\n",
       "\n",
       "    .dataframe tbody tr th {\n",
       "        vertical-align: top;\n",
       "    }\n",
       "\n",
       "    .dataframe thead th {\n",
       "        text-align: right;\n",
       "    }\n",
       "</style>\n",
       "<table border=\"1\" class=\"dataframe\">\n",
       "  <thead>\n",
       "    <tr style=\"text-align: right;\">\n",
       "      <th></th>\n",
       "      <th>rata2 Lama akses materi</th>\n",
       "      <th>lama_berlatih (min 5, mak 15)</th>\n",
       "      <th>nilai</th>\n",
       "      <th>lulus</th>\n",
       "      <th>kepercayaan</th>\n",
       "    </tr>\n",
       "  </thead>\n",
       "  <tbody>\n",
       "    <tr>\n",
       "      <th>0</th>\n",
       "      <td>kecil</td>\n",
       "      <td>kecil</td>\n",
       "      <td>kecil</td>\n",
       "      <td>tidak lulus</td>\n",
       "      <td>100</td>\n",
       "    </tr>\n",
       "    <tr>\n",
       "      <th>1</th>\n",
       "      <td>kecil</td>\n",
       "      <td>kecil</td>\n",
       "      <td>sedang</td>\n",
       "      <td>tidak lulus</td>\n",
       "      <td>100</td>\n",
       "    </tr>\n",
       "    <tr>\n",
       "      <th>2</th>\n",
       "      <td>kecil</td>\n",
       "      <td>kecil</td>\n",
       "      <td>besar</td>\n",
       "      <td>tidak lulus</td>\n",
       "      <td>95</td>\n",
       "    </tr>\n",
       "    <tr>\n",
       "      <th>3</th>\n",
       "      <td>kecil</td>\n",
       "      <td>sedang</td>\n",
       "      <td>kecil</td>\n",
       "      <td>tidak lulus</td>\n",
       "      <td>100</td>\n",
       "    </tr>\n",
       "    <tr>\n",
       "      <th>4</th>\n",
       "      <td>kecil</td>\n",
       "      <td>sedang</td>\n",
       "      <td>sedang</td>\n",
       "      <td>tidak lulus</td>\n",
       "      <td>95</td>\n",
       "    </tr>\n",
       "  </tbody>\n",
       "</table>\n",
       "</div>"
      ],
      "text/plain": [
       "  rata2 Lama akses materi lama_berlatih (min 5, mak 15)   nilai        lulus  \\\n",
       "0                   kecil                         kecil   kecil  tidak lulus   \n",
       "1                   kecil                         kecil  sedang  tidak lulus   \n",
       "2                   kecil                         kecil   besar  tidak lulus   \n",
       "3                   kecil                        sedang   kecil  tidak lulus   \n",
       "4                   kecil                        sedang  sedang  tidak lulus   \n",
       "\n",
       "   kepercayaan  \n",
       "0          100  \n",
       "1          100  \n",
       "2           95  \n",
       "3          100  \n",
       "4           95  "
      ]
     },
     "execution_count": 4,
     "metadata": {},
     "output_type": "execute_result"
    }
   ],
   "source": [
    "df.head()"
   ]
  },
  {
   "cell_type": "code",
   "execution_count": 5,
   "metadata": {},
   "outputs": [
    {
     "name": "stdout",
     "output_type": "stream",
     "text": [
      "**kecil**\n"
     ]
    }
   ],
   "source": [
    "#remove whitespace\n",
    "# for key,value in df.iterrows():\n",
    "    # df.loc[key,'nilai'] = value['nilai'].strip()\n",
    "    # print(f\"**{value['nilai']}**\")\n",
    "print(f\"**{df.loc[0,'nilai']}**\")"
   ]
  },
  {
   "cell_type": "code",
   "execution_count": 6,
   "metadata": {},
   "outputs": [
    {
     "data": {
      "text/plain": [
       "np.int64(0)"
      ]
     },
     "execution_count": 6,
     "metadata": {},
     "output_type": "execute_result"
    }
   ],
   "source": [
    "df.columns\n",
    "df.duplicated().sum()"
   ]
  },
  {
   "cell_type": "code",
   "execution_count": 7,
   "metadata": {},
   "outputs": [
    {
     "name": "stdout",
     "output_type": "stream",
     "text": [
      "27\n"
     ]
    }
   ],
   "source": [
    "#Check duplikat\n",
    "df_no_kepercayaan = df.drop(columns=['kepercayaan'])\n",
    "df_no_kepercayaan.duplicated().sum()\n",
    "print(len(df))"
   ]
  },
  {
   "cell_type": "code",
   "execution_count": 8,
   "metadata": {},
   "outputs": [
    {
     "name": "stdout",
     "output_type": "stream",
     "text": [
      "0 rata2 Lama akses materi                kecil\n",
      "lama_berlatih (min 5, mak 15)          kecil\n",
      "nilai                                  kecil\n",
      "lulus                            tidak lulus\n",
      "kepercayaan                              100\n",
      "Name: 0, dtype: object\n",
      "1 rata2 Lama akses materi                kecil\n",
      "lama_berlatih (min 5, mak 15)          kecil\n",
      "nilai                                 sedang\n",
      "lulus                            tidak lulus\n",
      "kepercayaan                              100\n",
      "Name: 1, dtype: object\n",
      "2 rata2 Lama akses materi                kecil\n",
      "lama_berlatih (min 5, mak 15)          kecil\n",
      "nilai                                  besar\n",
      "lulus                            tidak lulus\n",
      "kepercayaan                               95\n",
      "Name: 2, dtype: object\n",
      "3 rata2 Lama akses materi                kecil\n",
      "lama_berlatih (min 5, mak 15)         sedang\n",
      "nilai                                  kecil\n",
      "lulus                            tidak lulus\n",
      "kepercayaan                              100\n",
      "Name: 3, dtype: object\n",
      "4 rata2 Lama akses materi                kecil\n",
      "lama_berlatih (min 5, mak 15)         sedang\n",
      "nilai                                 sedang\n",
      "lulus                            tidak lulus\n",
      "kepercayaan                               95\n",
      "Name: 4, dtype: object\n",
      "5 rata2 Lama akses materi                kecil\n",
      "lama_berlatih (min 5, mak 15)         sedang\n",
      "nilai                                  besar\n",
      "lulus                            tidak lulus\n",
      "kepercayaan                               85\n",
      "Name: 5, dtype: object\n",
      "6 rata2 Lama akses materi                kecil\n",
      "lama_berlatih (min 5, mak 15)          besar\n",
      "nilai                                  kecil\n",
      "lulus                            tidak lulus\n",
      "kepercayaan                               95\n",
      "Name: 6, dtype: object\n",
      "7 rata2 Lama akses materi                kecil\n",
      "lama_berlatih (min 5, mak 15)          besar\n",
      "nilai                                 sedang\n",
      "lulus                            tidak lulus\n",
      "kepercayaan                               90\n",
      "Name: 7, dtype: object\n",
      "8 rata2 Lama akses materi          kecil\n",
      "lama_berlatih (min 5, mak 15)    besar\n",
      "nilai                            besar\n",
      "lulus                            lulus\n",
      "kepercayaan                         80\n",
      "Name: 8, dtype: object\n",
      "9 rata2 Lama akses materi               sedang\n",
      "lama_berlatih (min 5, mak 15)          kecil\n",
      "nilai                                  kecil\n",
      "lulus                            tidak lulus\n",
      "kepercayaan                              100\n",
      "Name: 9, dtype: object\n",
      "10 rata2 Lama akses materi               sedang\n",
      "lama_berlatih (min 5, mak 15)          kecil\n",
      "nilai                                 sedang\n",
      "lulus                            tidak lulus\n",
      "kepercayaan                               90\n",
      "Name: 10, dtype: object\n",
      "11 rata2 Lama akses materi               sedang\n",
      "lama_berlatih (min 5, mak 15)          kecil\n",
      "nilai                                  besar\n",
      "lulus                            tidak lulus\n",
      "kepercayaan                               80\n",
      "Name: 11, dtype: object\n",
      "12 rata2 Lama akses materi               sedang\n",
      "lama_berlatih (min 5, mak 15)         sedang\n",
      "nilai                                  kecil\n",
      "lulus                            tidak lulus\n",
      "kepercayaan                               90\n",
      "Name: 12, dtype: object\n",
      "13 rata2 Lama akses materi          sedang\n",
      "lama_berlatih (min 5, mak 15)    sedang\n",
      "nilai                            sedang\n",
      "lulus                             lulus\n",
      "kepercayaan                          75\n",
      "Name: 13, dtype: object\n",
      "14 rata2 Lama akses materi          sedang\n",
      "lama_berlatih (min 5, mak 15)    sedang\n",
      "nilai                             besar\n",
      "lulus                             lulus\n",
      "kepercayaan                          85\n",
      "Name: 14, dtype: object\n",
      "15 rata2 Lama akses materi               sedang\n",
      "lama_berlatih (min 5, mak 15)          besar\n",
      "nilai                                  kecil\n",
      "lulus                            tidak lulus\n",
      "kepercayaan                               75\n",
      "Name: 15, dtype: object\n",
      "16 rata2 Lama akses materi          sedang\n",
      "lama_berlatih (min 5, mak 15)     besar\n",
      "nilai                            sedang\n",
      "lulus                             lulus\n",
      "kepercayaan                          80\n",
      "Name: 16, dtype: object\n",
      "17 rata2 Lama akses materi          sedang\n",
      "lama_berlatih (min 5, mak 15)     besar\n",
      "nilai                             besar\n",
      "lulus                             lulus\n",
      "kepercayaan                          90\n",
      "Name: 17, dtype: object\n",
      "18 rata2 Lama akses materi                besar\n",
      "lama_berlatih (min 5, mak 15)          kecil\n",
      "nilai                                  kecil\n",
      "lulus                            tidak lulus\n",
      "kepercayaan                               95\n",
      "Name: 18, dtype: object\n",
      "19 rata2 Lama akses materi                besar\n",
      "lama_berlatih (min 5, mak 15)          kecil\n",
      "nilai                                 sedang\n",
      "lulus                            tidak lulus\n",
      "kepercayaan                               85\n",
      "Name: 19, dtype: object\n",
      "20 rata2 Lama akses materi                besar\n",
      "lama_berlatih (min 5, mak 15)          kecil\n",
      "nilai                                  besar\n",
      "lulus                            tidak lulus\n",
      "kepercayaan                               75\n",
      "Name: 20, dtype: object\n",
      "21 rata2 Lama akses materi           besar\n",
      "lama_berlatih (min 5, mak 15)    sedang\n",
      "nilai                             kecil\n",
      "lulus                             lulus\n",
      "kepercayaan                          70\n",
      "Name: 21, dtype: object\n",
      "22 rata2 Lama akses materi           besar\n",
      "lama_berlatih (min 5, mak 15)    sedang\n",
      "nilai                            sedang\n",
      "lulus                             lulus\n",
      "kepercayaan                          85\n",
      "Name: 22, dtype: object\n",
      "23 rata2 Lama akses materi           besar\n",
      "lama_berlatih (min 5, mak 15)    sedang\n",
      "nilai                             besar\n",
      "lulus                             lulus\n",
      "kepercayaan                          90\n",
      "Name: 23, dtype: object\n",
      "24 rata2 Lama akses materi          besar\n",
      "lama_berlatih (min 5, mak 15)    besar\n",
      "nilai                            kecil\n",
      "lulus                            lulus\n",
      "kepercayaan                         75\n",
      "Name: 24, dtype: object\n",
      "25 rata2 Lama akses materi           besar\n",
      "lama_berlatih (min 5, mak 15)     besar\n",
      "nilai                            sedang\n",
      "lulus                             lulus\n",
      "kepercayaan                          90\n",
      "Name: 25, dtype: object\n",
      "26 rata2 Lama akses materi          besar\n",
      "lama_berlatih (min 5, mak 15)    besar\n",
      "nilai                            besar\n",
      "lulus                            lulus\n",
      "kepercayaan                        100\n",
      "Name: 26, dtype: object\n"
     ]
    }
   ],
   "source": [
    "for key,value in df.iterrows():\n",
    "    print(key,value)"
   ]
  },
  {
   "cell_type": "code",
   "execution_count": 9,
   "metadata": {},
   "outputs": [],
   "source": [
    "def triangular_fuzzy(max:float, min:float, mid:float, x:float) -> float:\n",
    "    \"\"\"\n",
    "    Fungsi ini mengembalikan nilai fuzzy dari suatu nilai x\n",
    "    max : float\n",
    "        Batas atas\n",
    "    min : float\n",
    "        Batas bawah\n",
    "    mid : float\n",
    "        Nilai tengah\n",
    "    x : float\n",
    "        Nilai x yang akan dihitung\n",
    "        \n",
    "    Output : float\n",
    "    \"\"\"\n",
    "    if x <= min : \n",
    "        return 0\n",
    "    elif x <= mid : \n",
    "        return (x - min) / (mid - min)\n",
    "    elif x <= max : \n",
    "        return (max - x) / (max - mid)\n",
    "    else : \n",
    "        return 0\n",
    "\n",
    "\n",
    "def trapezoidal_fuzzy(max:float, min:float, mid1:float, mid2:float, x:float, type:str) -> float:\n",
    "    \"\"\"\n",
    "    Fungsi ini mengembalikan nilai fuzzy dari suatu nilai x\n",
    "    max : float\n",
    "        Batas atas\n",
    "    min : float\n",
    "        Batas bawah\n",
    "    mid1 : float\n",
    "        Nilai tengah 1\n",
    "    mid2 : float\n",
    "        Nilai tengah 2\n",
    "    x : float\n",
    "        Nilai x yang akan dihitung\n",
    "    type : str {'left','right'}\n",
    "        Tipe trapesium yang akan dihitung\n",
    "        \n",
    "    Output : float\n",
    "    \"\"\"\n",
    "    if type == 'left' : \n",
    "        if x <= min : \n",
    "            return 1\n",
    "        elif x <= mid1 : \n",
    "            return (x - min) / (mid1 - min)\n",
    "        elif x <= mid2 : \n",
    "            return 1\n",
    "        elif x <= max : \n",
    "            return (max - x) / (max - mid2)\n",
    "        else : \n",
    "            return 0\n",
    "    elif type == 'right' : \n",
    "        if x <= min : \n",
    "            return 0\n",
    "        elif x <= mid1 : \n",
    "            return (x - min) / (mid1 - min)\n",
    "        elif x <= mid2 : \n",
    "            return 1\n",
    "        elif x <= max : \n",
    "            return (max - x) / (max - mid2)\n",
    "        else : \n",
    "            return 1\n",
    "    else : \n",
    "        return 0\n"
   ]
  },
  {
   "cell_type": "code",
   "execution_count": 10,
   "metadata": {},
   "outputs": [
    {
     "data": {
      "text/plain": [
       "['rata2 Lama akses materi',\n",
       " 'lama_berlatih (min 5, mak 15)',\n",
       " 'nilai',\n",
       " 'lulus',\n",
       " 'kepercayaan']"
      ]
     },
     "execution_count": 10,
     "metadata": {},
     "output_type": "execute_result"
    }
   ],
   "source": [
    "df.columns.to_list()"
   ]
  },
  {
   "cell_type": "code",
   "execution_count": 11,
   "metadata": {},
   "outputs": [],
   "source": [
    "class DataFuzzy:\n",
    "    def __init__(self, df_name, domain_width) -> None:\n",
    "        df_name = df_name or \"hasil hasil belajar\"\n",
    "        df1 = load_data(df_name, sheet=0)\n",
    "        df2 = load_data(df_name, sheet=1)\n",
    "        df1['kesimpulannya'] = df1['kesimpulannya'].apply(lambda x: 0)\n",
    "        df1['keyakinan'] = df1['keyakinan'].apply(lambda x: 100-x)\n",
    "        self.df = pd.concat([df1,df2], ignore_index=True)\n",
    "        self.df['nilai'] = self.df['nilai'].apply(lambda x: int(x))\n",
    "        self.findAll()\n",
    "        self.columns = self.df.columns.to_list()\n",
    "        # self.makeFuzzyDomain()\n",
    "        self.changeMenitToDetik_Column(['lama_berlatih (min 5, mak 15)'])\n",
    "        self.rules = df\n",
    "        self.domain_width = domain_width\n",
    "        self.Inference()\n",
    "        \n",
    "        \n",
    "    def findMax(self, column:str) -> float:\n",
    "        return self.df[column].max()\n",
    "    \n",
    "    def findMin(self, column:str) -> float:\n",
    "        return self.df[column].min()\n",
    "    \n",
    "    def findAll(self):\n",
    "        self.findAllMax()\n",
    "        self.findAllMin()\n",
    "    \n",
    "    def findAllMax(self) -> dict:\n",
    "        self.AllMax = {col:self.findMax(col) for col in self.df.columns}\n",
    "\n",
    "    def findAllMin(self) -> dict:\n",
    "        self.AllMin = {col:self.findMin(col) for col in self.df.columns}\n",
    "    \n",
    "    def deleteColumns(self, columns:list) -> None:\n",
    "        self.df.drop(columns=columns, inplace=True)\n",
    "        \n",
    "    @staticmethod\n",
    "    def __menittoDetikconverter(x:str='7 menit, 32 detik') -> int:\n",
    "        \"\"\"\n",
    "        Fungsi ini mengembalikan nilai detik dari suatu string waktu\n",
    "        x : str\n",
    "            String waktu dalam format 'menit menit, detik det\n",
    "        Output : int\n",
    "        \"\"\"\n",
    "        menit, detik = x.split(',')\n",
    "        menit = int(menit.split(' ')[0])\n",
    "        detik = int(detik.split(' ')[1])\n",
    "        return menit*60+detik\n",
    "    \n",
    "    def changeMenitToDetik_Column(self, columns:list) -> None:\n",
    "        for col in columns:\n",
    "            self.df[col] = self.df[col].apply(lambda x: self.__menittoDetikconverter(x))\n",
    "        self.findAll()\n",
    "            \n",
    "    @staticmethod\n",
    "    def make_domain(min:int,max:int,amount:int,domain_width:float=0.05) -> list:\n",
    "        \"\"\"\n",
    "        Fungsi make_domain digunakan untuk membuat domain fuzzy\n",
    "        \n",
    "        min : nilai minimum dari domain fuzzy\n",
    "        max : nilai maksimum dari domain fuzzy\n",
    "        amount: jumlah domain fuzzy yang akan dibuat\n",
    "        domain_width : lebar domain fuzzy (default : 0.05)\n",
    "        rentang yang digunakan yaitu (max-min)*domain_width\n",
    "        \n",
    "        \"\"\"\n",
    "        \n",
    "        domain = [(i-int((max-min)*domain_width), i-1+(max-min)//amount+int((max-min)*domain_width)) for i in range(min,max+(max%amount)+1,int((max-min)/amount))]\n",
    "        # print(domain)\n",
    "        if len(domain) > amount or domain[-1][1] > max:\n",
    "            domain.pop()\n",
    "            domain[-1] = (domain[-1][0],int(max+(max-min)*domain_width))\n",
    "        \n",
    "        if len(domain) != amount:\n",
    "            raise ValueError(\"Kesalahan dalam pembuatan domain fuzzy. Nilai yang digunakan tidak dapat dibagi rata dengan jumlah domain yang ingin dibuat\")\n",
    "        \n",
    "        domain[1] = (min + int((max-min)*domain_width), max - int((max-min)*domain_width))\n",
    "        return domain            \n",
    "            \n",
    "    def makeFuzzyDomain(self, exception:list=[], domain_width:float=0.05) -> None:\n",
    "        self.data_fuzzy = {}\n",
    "        for value in self.columns:\n",
    "            if(value not in exception):\n",
    "                try:\n",
    "                    # if(value == 'lama_berlatih (min 5, mak 15)'):\n",
    "                    #     self.data_fuzzy[value] = (self.make_domain(5*60,15*60,3))\n",
    "                    # else:\n",
    "                    ans = (self.make_domain(min=int(self.AllMin[value]),max=int(self.AllMax[value]),amount=3,domain_width=domain_width))\n",
    "                    self.data_fuzzy[value] = ans\n",
    "                    # print(ans)\n",
    "                except ValueError as e:\n",
    "                    # print(e)\n",
    "                    self.data_fuzzy[value] = None\n",
    "                \n",
    "        # self.showFigure()\n",
    "                \n",
    "    @staticmethod\n",
    "    def checkRange(data:dict, title:str, value:int) -> list[int]:\n",
    "        \"\"\"\n",
    "        Fungsi ini mengembalikan index rentang fuzzy dari suatu nilai\n",
    "        data : dict\n",
    "            Data fuzzy yang akan di cek\n",
    "        title : str\n",
    "            Judul data yang akan di cek\n",
    "        value : int\n",
    "            Nilai yang akan di cek\n",
    "            \n",
    "        Minus : Belum bisa mencari jika dia berada di 2 rentang bersamaan\n",
    "            \n",
    "        Output : list[int]\n",
    "        \"\"\"\n",
    "        ans = []\n",
    "        # print(data[title][0])\n",
    "        for idx, (min,max) in enumerate(data[title]):\n",
    "            if (idx == 0) and (value <= min):\n",
    "                ans.append(idx)\n",
    "            elif (idx == len(data[title])-1) and (value >= max):\n",
    "                ans.append(idx)\n",
    "            elif value >= min and value <= max:\n",
    "                ans.append(idx)\n",
    "        return ans\n",
    "\n",
    "\n",
    "    def showFigure(self) -> None:\n",
    "        if self.data_fuzzy is None:\n",
    "            raise ValueError(\"Data Fuzzy belum dibuat\")\n",
    "        \n",
    "        if self.AllMax is None or self.AllMin is None:\n",
    "            raise ValueError(\"Data Max atau Min belum dibuat\")\n",
    "        \n",
    "        fig, ax = plt.subplots(1,len(self.data_fuzzy),figsize=(10,2))  \n",
    "        for key,data in enumerate(self.data_fuzzy):\n",
    "            for idx, (min,max) in enumerate(self.data_fuzzy[data]):\n",
    "                # print(min,max)\n",
    "                if idx == 0:\n",
    "                    ax[key].plot([min, (max+min)/2, max], [1, 1, 0])\n",
    "                elif idx == len(self.data_fuzzy[data])-1:\n",
    "                    ax[key].plot([min, (max+min)/2, max], [0, 1, 1])\n",
    "                else:\n",
    "                    ax[key].plot([min, (max+min)/2, max], [0, 1, 0])\n",
    "                \n",
    "                ax[key].set_title(f'{data}', fontsize=6)\n",
    "                # ax[key].set_xlabel('Nilai', fontsize=6)\n",
    "                ax[key].set_ylabel('Fuzzy Value', fontsize=6)\n",
    "                \n",
    "    @staticmethod\n",
    "    def flatten_list(list_flatten:list) -> list:\n",
    "        \"\"\"\n",
    "        Fungsi flatten_list digunakan untuk meratakan list\n",
    "        \n",
    "        list_flatten : list yang akan diratakan\n",
    "        \n",
    "        \"\"\"\n",
    "        return [item for sublist in list_flatten for item in sublist]\n",
    "\n",
    "    def Fuzzifikasi(self, exceptions:list[str]) -> dict:\n",
    "        \"\"\"\"\n",
    "        \n",
    "        Fungsi ini digunakan untuk menghitung nilai fuzzy dari suatu data dan mendapatkan derajat keanggotaannya\n",
    "        \n",
    "        \n",
    "        \"\"\"\n",
    "        if self.df is None:\n",
    "            raise ValueError(\"Data belum di load\")\n",
    "        \n",
    "        if self.data_fuzzy is None:\n",
    "            raise ValueError(\"Data Fuzzy belum dibuat\")\n",
    "        \n",
    "        self.hasilFuzzy = None\n",
    "        all_result = []\n",
    "        for key,value in self.df.iterrows():\n",
    "            result = {}\n",
    "            for idx, data in value.items():\n",
    "                if (idx not in exceptions):\n",
    "                    ans = []\n",
    "                    selected = self.checkRange(self.data_fuzzy, idx, data)\n",
    "                    # print(selected)\n",
    "                    for num in selected:\n",
    "                        # print(self.data_fuzzy[idx][0][num][1])\n",
    "                        maks = self.data_fuzzy[idx][num][1]\n",
    "                        minn = self.data_fuzzy[idx][num][0]\n",
    "                        if num == 0: #kalo di anggota kiri (trapezoidal kiri)\n",
    "                            ans.append(trapezoidal_fuzzy(min=minn, mid1=minn, mid2=(maks+minn)/2, max=maks, x=data, type='left'))\n",
    "                        elif num == len(self.data_fuzzy[idx])-1: #kalo di anggota tengah (segitiga)\n",
    "                            ans.append(trapezoidal_fuzzy(min=minn, mid1=(maks+minn)/2, mid2=maks, max=maks, x=data, type='right'))\n",
    "                        else: #kalo di anggota kanan (trapezoidal kanan)\n",
    "                            ans.append(triangular_fuzzy(min=minn, mid=(maks+minn)/2, max=maks, x=data))\n",
    "                    result[idx] = selected, ans\n",
    "                \n",
    "            all_result.append(result)\n",
    "            \n",
    "        self.hasilFuzzy = all_result\n",
    "        # print(len(self.hasilFuzzy))\n",
    "        return all_result\n",
    "    \n",
    "    def showFuzzyResult(self, idx:int) -> None:\n",
    "        \"\"\"\n",
    "        \n",
    "        Fungsi ini digunakan untuk menampilkan hasil fuzzy dari suatu data\n",
    "        idx : int\n",
    "            Index data yang ingin ditampilkan\n",
    "        \n",
    "        \"\"\"\n",
    "        if self.hasilFuzzy is None:\n",
    "            raise ValueError(\"Data Fuzzy belum dihitung\")\n",
    "        if idx >= len(self.hasilFuzzy):\n",
    "            raise ValueError(\"Index yang diinput melebihi jumlah data\")\n",
    "        \n",
    "        for key,value in self.hasilFuzzy[idx].items():\n",
    "            print(key,value)\n",
    "            \n",
    "    @staticmethod\n",
    "    def findCombination(data:list) -> list:\n",
    "        \"\"\"\n",
    "        Fungsi ini mengembalikan semua kombinasi dari suatu list untuk fuzzy\n",
    "        data : list\n",
    "            List yang isinya list dari data yang ingin dicari\n",
    "            \n",
    "        Output : list\n",
    "        \"\"\"\n",
    "        \n",
    "        all_count = [0 for _ in range(len(data))]\n",
    "        prob = 1\n",
    "        for i in all_count:\n",
    "            prob *= len(data[i])\n",
    "        all_comb = []\n",
    "        for _ in range(prob):\n",
    "            # print(all_count)\n",
    "            temp = []\n",
    "            try :\n",
    "                for idx,value in enumerate(all_count):\n",
    "                    temp.append(data[idx][value])\n",
    "                if temp not in all_comb:\n",
    "                    all_comb.append(temp)\n",
    "                    \n",
    "                all_count[-1] += 1\n",
    "                for i in range(len(all_count)-1,-1,-1):\n",
    "                    if all_count[i] == len(data[i]):\n",
    "                        all_count[i] = 0\n",
    "                        all_count[i-1] += 1\n",
    "            except:\n",
    "                break                \n",
    "        return all_comb\n",
    "   \n",
    "   \n",
    "    @staticmethod\n",
    "    def applyRules(data:list, rules:pd.DataFrame, value:float) -> list:\n",
    "        \"\"\"\n",
    "        \n",
    "        Fungsi ini digunakan untuk mencocokkan rules pada data fuzzy (satu data)\n",
    "        data : list\n",
    "            List data fuzzy yang akan di cek\n",
    "        rules : pd.DataFrame\n",
    "            Data rules yang akan di cek\n",
    "        value : float\n",
    "            Derajat keanggotaan dari data fuzzy\n",
    "        \n",
    "        \"\"\"\n",
    "        ans = []\n",
    "        for key,rule in rules.iterrows():\n",
    "            if(data == [rule[0], rule[1], rule[2]]): \n",
    "                ans.append((rule.iloc[-2], rule.iloc[-1]))\n",
    "                break\n",
    "        return ans\n",
    "   \n",
    "    def Process(self) -> None:\n",
    "        \"\"\"\n",
    "        \n",
    "        Fungsi ini digunakan untuk memproses data fuzzy yang sudah dihitung, dan mencari hasil inferensi\n",
    "        \n",
    "        \"\"\"\n",
    "        if self.hasilFuzzy is None:\n",
    "            raise ValueError(\"Data Fuzzy belum dihitung\")\n",
    "        \n",
    "        all_result = []\n",
    "        for value in self.hasilFuzzy:\n",
    "            result = []\n",
    "            for idx, data in value.items():\n",
    "                result.append(data[0])\n",
    "                \n",
    "            ans = self.findCombination((result))\n",
    "            all_combi = []\n",
    "            for search in ans:\n",
    "                smallestValue = value[list(value.keys())[0]][1][value[list(value.keys())[0]][0].index(search[0])]\n",
    "                for key,(idx, data) in enumerate(value.items()):\n",
    "                    try:\n",
    "                        smallestValue = min(smallestValue, data[1][data[0].index(search[key])])\n",
    "                    except:\n",
    "                        pass\n",
    "                    # print(data[1][search[idx]])\n",
    "                all_combi.append((search, smallestValue))\n",
    "            \n",
    "            all_result.append(all_combi)\n",
    "            \n",
    "        \n",
    "        mapping = {\n",
    "            0 : 'kecil',\n",
    "            1 : 'sedang',\n",
    "            2 : 'besar'\n",
    "        }\n",
    "        \n",
    "        #apply rules\n",
    "        inferenced_result = []\n",
    "        # print(all_result[0])\n",
    "        for data in all_result:\n",
    "            best = []\n",
    "            for combination,value in data:\n",
    "                mapped_value = [mapping[value] for value in combination]\n",
    "                result = self.applyRules(mapped_value, self.rules, value)\n",
    "                try:\n",
    "                    if best[1] < result[0][1]:\n",
    "                        best = result\n",
    "                except:\n",
    "                    best = result\n",
    "            inferenced_result.append(best)\n",
    "        \n",
    "        self.InferenceResult = inferenced_result\n",
    "        # print(len(self.InferenceResult), len(self.hasilFuzzy))\n",
    "        \n",
    "        \n",
    "    def showAccuracy(self, output=False) -> None:\n",
    "        \"\"\"\n",
    "        \n",
    "        Fungsi ini digunakan untuk menampilkan akurasi dari hasil inferensi\n",
    "        Accuracy = (Jumlah data yang benar / Jumlah data) * 100%\n",
    "        \n",
    "        \"\"\"\n",
    "        if self.InferenceResult is None:\n",
    "            raise ValueError(\"Data Inference belum dihitung\")\n",
    "        \n",
    "        count = 0\n",
    "        maps = {\n",
    "            0 : 'tidak lulus',\n",
    "            1 : 'lulus'\n",
    "        }\n",
    "        for key,value in enumerate(self.InferenceResult):\n",
    "            real =  maps[self.df.loc[key, 'kesimpulannya']]\n",
    "            if real == value[0][0]:\n",
    "                count += 1\n",
    "        # print(f\"Accuracy : {count/len(self.InferenceResult)*100}%\")\n",
    "        if output:\n",
    "            print(f\"Accuracy : {count/len(self.InferenceResult)*100:.2f}%\")\n",
    "        return count/len(self.InferenceResult)*100\n",
    "        \n",
    "    def Inference(self, FuzzyDomain_ColumnsException:list[str]=['no','kesimpulannya','keyakinan']) -> None:\n",
    "        self.makeFuzzyDomain(exception=FuzzyDomain_ColumnsException, domain_width=self.domain_width)\n",
    "        self.Fuzzifikasi(exceptions=FuzzyDomain_ColumnsException)\n",
    "        self.Process()\n",
    "        # self.showAccuracy() \n",
    "        \n",
    "    @staticmethod    \n",
    "    def optimization_graph(x:list,y:list, xlabel:str, ylabel:str):\n",
    "        fig = plt.figure()\n",
    "        ax = fig.add_subplot(111)\n",
    "        ax.plot(x,y)\n",
    "        xlabel = xlabel or 'Domain Range'\n",
    "        ylabel = ylabel or 'Accuracy'\n",
    "        # ax.set_xticks(x)\n",
    "        ax.set_xlabel(xlabel)\n",
    "        ax.set_ylabel(xlabel)\n",
    "        ax.set_title('Optimization Graph')\n",
    "        plt.show()\n",
    "        \n",
    "    def optimation(self, domain_range:list[float]):\n",
    "        x,y=[],[]\n",
    "        bestFit = None\n",
    "        for i in tqdm(range(0,len(domain_range)), desc='Preedicting'):\n",
    "        # for data in domain_range:\n",
    "            self.domain_width = domain_range[i]\n",
    "            self.Inference()\n",
    "            x.append(domain_range[i])\n",
    "            y.append(self.showAccuracy())\n",
    "            if bestFit is None:\n",
    "                bestFit = (domain_range[i],self.showAccuracy())\n",
    "            elif bestFit[1] < self.showAccuracy():\n",
    "                bestFit = (domain_range[i],self.showAccuracy())\n",
    "        print(f\"x : {x}, y : {y}\")\n",
    "        self.optimization_graph(x,y)\n",
    "        self.bestFit = bestFit\n",
    "        print(f\"Best Fit : {bestFit}\")\n",
    "        "
   ]
  },
  {
   "cell_type": "code",
   "execution_count": 12,
   "metadata": {},
   "outputs": [],
   "source": [
    "class PSO (DataFuzzy):\n",
    "    \"\"\"\n",
    "    Particle Swarm Optimization\n",
    "    \n",
    "    \"\"\"\n",
    "    def __init__(self, domain_width):\n",
    "        super().__init__('hasil hasil belajar',domain_width=domain_width)\n",
    "        self.gbest = None\n",
    "        \n",
    "    def fitness(self, x):\n",
    "        self.domain_width = x\n",
    "        self.Inference()\n",
    "        return self.showAccuracy() \n",
    "\n",
    "    def train(self, n_particles, n_iter, w=0.5, c1=1, c2=1):\n",
    "        \"\"\"\n",
    "        Particle Swarm Optimization\n",
    "        \n",
    "        n_particles : int\n",
    "            Jumlah partikel\n",
    "        n_iter : int\n",
    "            Jumlah iterasi\n",
    "        w : float\n",
    "            Inertia weight\n",
    "        c1 : float\n",
    "            Cognitive weight\n",
    "        c2 : float\n",
    "            Social weight\n",
    "        \n",
    "        \"\"\"\n",
    "        class Particle:\n",
    "            def __init__(self, domain_width):\n",
    "                self.domain_width = domain_width\n",
    "                self.pbest = domain_width\n",
    "                self.pbest_score = -1\n",
    "                self.velocity = 0\n",
    "                \n",
    "        x,y = [],[]\n",
    "        gbest = None\n",
    "        CallbackCount = 0\n",
    "        particles = [Particle(np.random.rand()) for _ in range(n_particles)]\n",
    "        for i in tqdm(range(n_iter), desc='PSO'):\n",
    "            for particle in particles:\n",
    "                score = self.fitness(particle.domain_width)\n",
    "                if score > particle.pbest_score:\n",
    "                    particle.pbest_score = score\n",
    "                    particle.pbest = particle.domain_width\n",
    "                if gbest is None or score > gbest[1]:\n",
    "                    gbest = (particle.domain_width, score)\n",
    "            \n",
    "            CallbackCount += 1 if score == gbest[1] else 0\n",
    "            if CallbackCount >= 3:\n",
    "                print(f\"Callbacks reached. Stopping...\")\n",
    "                break\n",
    "            x.append(i+1)\n",
    "            y.append(gbest[1])\n",
    "            \n",
    "            for particle in particles:\n",
    "                r1 = np.random.rand()\n",
    "                r2 = np.random.rand()\n",
    "                particle.velocity = w * particle.velocity + c1 * r1 * (particle.pbest - particle.domain_width) + c2 * r2 * (gbest[0] - particle.domain_width)\n",
    "                particle.domain_width += particle.velocity\n",
    "                # particle.domain_width = max(0.01, particle.domain_width)\n",
    "                # particle.domain_width = min(0.5, particle.domain_width)\n",
    "                if(particle.domain_width < 0.01):\n",
    "                    particle.domain_width = 0.01\n",
    "                if(particle.domain_width > 0.5):\n",
    "                    particle.domain_width = 0.5\n",
    "            \n",
    "        print(f\"Best Fit : {gbest}\")\n",
    "        self.optimization_graph(x,y, xlabel='iteration', ylabel='Accuracy')\n",
    "        self.gbest = gbest\n",
    "        return gbest\n",
    "        \n",
    "    def __repr__(self):\n",
    "        return f\"Domain Width : {self.domain_width}, Best Fit : {self.gbest}\"\n",
    "        \n",
    "    "
   ]
  },
  {
   "cell_type": "code",
   "execution_count": 13,
   "metadata": {},
   "outputs": [
    {
     "name": "stderr",
     "output_type": "stream",
     "text": [
      "C:\\Users\\pande\\AppData\\Local\\Temp\\ipykernel_17428\\477042195.py:262: FutureWarning: Series.__getitem__ treating keys as positions is deprecated. In a future version, integer keys will always be treated as labels (consistent with DataFrame behavior). To access a value by position, use `ser.iloc[pos]`\n",
      "  if(data == [rule[0], rule[1], rule[2]]):\n"
     ]
    }
   ],
   "source": [
    "data1 = PSO(0.05)"
   ]
  },
  {
   "cell_type": "code",
   "execution_count": 19,
   "metadata": {},
   "outputs": [
    {
     "name": "stderr",
     "output_type": "stream",
     "text": [
      "PSO:   0%|          | 0/100 [00:00<?, ?it/s]"
     ]
    },
    {
     "name": "stderr",
     "output_type": "stream",
     "text": [
      "C:\\Users\\pande\\AppData\\Local\\Temp\\ipykernel_17428\\477042195.py:262: FutureWarning: Series.__getitem__ treating keys as positions is deprecated. In a future version, integer keys will always be treated as labels (consistent with DataFrame behavior). To access a value by position, use `ser.iloc[pos]`\n",
      "  if(data == [rule[0], rule[1], rule[2]]):\n",
      "PSO:   6%|▌         | 6/100 [00:31<08:15,  5.28s/it]"
     ]
    },
    {
     "name": "stdout",
     "output_type": "stream",
     "text": [
      "Callbacks reached. Stopping...\n",
      "Best Fit : (0.31555455828930307, 96.26168224299066)\n"
     ]
    },
    {
     "name": "stderr",
     "output_type": "stream",
     "text": [
      "\n"
     ]
    },
    {
     "data": {
      "image/png": "[encoded data removed]",
      "text/plain": [
       "<Figure size 640x480 with 1 Axes>"
      ]
     },
     "metadata": {},
     "output_type": "display_data"
    },
    {
     "data": {
      "text/plain": [
       "(0.31555455828930307, 96.26168224299066)"
      ]
     },
     "execution_count": 19,
     "metadata": {},
     "output_type": "execute_result"
    }
   ],
   "source": [
    "data1.train(n_particles=5, n_iter=100)"
   ]
  },
  {
   "cell_type": "code",
   "execution_count": 15,
   "metadata": {},
   "outputs": [
    {
     "data": {
      "text/plain": [
       "Domain Width : 0.14897680731919757, Best Fit : (0.3452200575971575, 96.26168224299066)"
      ]
     },
     "execution_count": 15,
     "metadata": {},
     "output_type": "execute_result"
    }
   ],
   "source": [
    "# data_1 = DataFuzzy('hasil hasil belajar', domain_width=0.05)\n",
    "data1"
   ]
  },
  {
   "cell_type": "code",
   "execution_count": 20,
   "metadata": {},
   "outputs": [
    {
     "data": {
      "text/plain": [
       "Domain Width : 0.31555455828930307, Best Fit : (0.31555455828930307, 96.26168224299066)"
      ]
     },
     "execution_count": 20,
     "metadata": {},
     "output_type": "execute_result"
    }
   ],
   "source": [
    "data1.domain_width = data1.gbest[0]\n",
    "data1"
   ]
  },
  {
   "cell_type": "code",
   "execution_count": null,
   "metadata": {},
   "outputs": [
    {
     "data": {
      "image/png": "[encoded data removed]",
      "text/plain": [
       "<Figure size 1000x200 with 3 Axes>"
      ]
     },
     "metadata": {},
     "output_type": "display_data"
    }
   ],
   "source": [
    "# data_1.optimation(np.arange(0.01,0.5,0.01))\n",
    "data1.showFigure()."
   ]
  },
  {
   "cell_type": "code",
   "execution_count": 18,
   "metadata": {},
   "outputs": [
    {
     "ename": "NameError",
     "evalue": "name 'data_1' is not defined",
     "output_type": "error",
     "traceback": [
      "\u001b[1;31m---------------------------------------------------------------------------\u001b[0m",
      "\u001b[1;31mNameError\u001b[0m                                 Traceback (most recent call last)",
      "Cell \u001b[1;32mIn[18], line 2\u001b[0m\n\u001b[0;32m      1\u001b[0m \u001b[38;5;66;03m# data_1.AllMin\u001b[39;00m\n\u001b[1;32m----> 2\u001b[0m \u001b[43mdata_1\u001b[49m\u001b[38;5;241m.\u001b[39mdomain_width \u001b[38;5;241m=\u001b[39m \u001b[38;5;241m0.31\u001b[39m\n\u001b[0;32m      3\u001b[0m data_1\u001b[38;5;241m.\u001b[39mInference()\n",
      "\u001b[1;31mNameError\u001b[0m: name 'data_1' is not defined"
     ]
    }
   ],
   "source": [
    "# data_1.AllMin\n",
    "data_1.domain_width = 0.31\n",
    "data_1.Inference()"
   ]
  },
  {
   "cell_type": "code",
   "execution_count": null,
   "metadata": {},
   "outputs": [
    {
     "data": {
      "image/png": "[encoded data removed]",
      "text/plain": [
       "<Figure size 1000x200 with 3 Axes>"
      ]
     },
     "metadata": {},
     "output_type": "display_data"
    }
   ],
   "source": [
    "data_1.showFigure()"
   ]
  },
  {
   "cell_type": "code",
   "execution_count": null,
   "metadata": {},
   "outputs": [
    {
     "name": "stderr",
     "output_type": "stream",
     "text": [
      "C:\\Users\\pande\\AppData\\Local\\Temp\\ipykernel_6300\\216905476.py:262: FutureWarning: Series.__getitem__ treating keys as positions is deprecated. In a future version, integer keys will always be treated as labels (consistent with DataFrame behavior). To access a value by position, use `ser.iloc[pos]`\n",
      "  if(data == [rule[0], rule[1], rule[2]]):\n"
     ]
    }
   ],
   "source": [
    "data_1.domain_width = 0.01\n",
    "data_1.Inference()"
   ]
  },
  {
   "cell_type": "code",
   "execution_count": null,
   "metadata": {},
   "outputs": [
    {
     "data": {
      "image/png": "[encoded data removed]",
      "text/plain": [
       "<Figure size 1000x200 with 3 Axes>"
      ]
     },
     "metadata": {},
     "output_type": "display_data"
    }
   ],
   "source": [
    "data_1.showFigure()"
   ]
  },
  {
   "cell_type": "code",
   "execution_count": null,
   "metadata": {},
   "outputs": [
    {
     "data": {
      "text/plain": [
       "{'rata2 Lama akses materi': [(104, 306), (114, 685), (490, 695)],\n",
       " 'lama_berlatih (min 5, mak 15)': [(51, 2539), (191, 7099), (4749, 7239)],\n",
       " 'nilai': [(-1, 33), (1, 99), (65, 101)]}"
      ]
     },
     "execution_count": 354,
     "metadata": {},
     "output_type": "execute_result"
    }
   ],
   "source": [
    "data_1.data_fuzzy"
   ]
  },
  {
   "cell_type": "code",
   "execution_count": null,
   "metadata": {},
   "outputs": [
    {
     "name": "stdout",
     "output_type": "stream",
     "text": [
      "[(-181, 591), (399, 400), (205, 980)]\n"
     ]
    }
   ],
   "source": [
    "max = 690\n",
    "min = 109\n",
    "domain_width = 0.5\n",
    "amount = 3\n",
    "\n",
    "print(data_1.make_domain(min,max,amount,domain_width))\n"
   ]
  },
  {
   "cell_type": "code",
   "execution_count": null,
   "metadata": {},
   "outputs": [
    {
     "name": "stderr",
     "output_type": "stream",
     "text": [
      "C:\\Users\\pande\\AppData\\Local\\Temp\\ipykernel_6300\\216905476.py:262: FutureWarning: Series.__getitem__ treating keys as positions is deprecated. In a future version, integer keys will always be treated as labels (consistent with DataFrame behavior). To access a value by position, use `ser.iloc[pos]`\n",
      "  if(data == [rule[0], rule[1], rule[2]]):\n"
     ]
    }
   ],
   "source": [
    "data_2 = DataFuzzy('hasil hasil belajar', domain_width=0.7)"
   ]
  },
  {
   "cell_type": "code",
   "execution_count": null,
   "metadata": {},
   "outputs": [
    {
     "data": {
      "text/plain": [
       "{'rata2 Lama akses materi': [(-297, 707), (515, 284), (89, 1096)],\n",
       " 'lama_berlatih (min 5, mak 15)': [(-4812, 7402), (5054, 2236), (-114, 12102)],\n",
       " 'nilai': [(-70, 102), (70, 30), (-4, 170)]}"
      ]
     },
     "execution_count": 357,
     "metadata": {},
     "output_type": "execute_result"
    }
   ],
   "source": [
    "data_2.data_fuzzy "
   ]
  },
  {
   "cell_type": "code",
   "execution_count": null,
   "metadata": {},
   "outputs": [
    {
     "data": {
      "text/html": [
       "<div>\n",
       "<style scoped>\n",
       "    .dataframe tbody tr th:only-of-type {\n",
       "        vertical-align: middle;\n",
       "    }\n",
       "\n",
       "    .dataframe tbody tr th {\n",
       "        vertical-align: top;\n",
       "    }\n",
       "\n",
       "    .dataframe thead th {\n",
       "        text-align: right;\n",
       "    }\n",
       "</style>\n",
       "<table border=\"1\" class=\"dataframe\">\n",
       "  <thead>\n",
       "    <tr style=\"text-align: right;\">\n",
       "      <th></th>\n",
       "      <th>no</th>\n",
       "      <th>rata2 Lama akses materi</th>\n",
       "      <th>lama_berlatih (min 5, mak 15)</th>\n",
       "      <th>nilai</th>\n",
       "      <th>kesimpulannya</th>\n",
       "      <th>keyakinan</th>\n",
       "    </tr>\n",
       "  </thead>\n",
       "  <tbody>\n",
       "    <tr>\n",
       "      <th>0</th>\n",
       "      <td>7</td>\n",
       "      <td>590</td>\n",
       "      <td>452</td>\n",
       "      <td>75</td>\n",
       "      <td>0</td>\n",
       "      <td>35</td>\n",
       "    </tr>\n",
       "    <tr>\n",
       "      <th>1</th>\n",
       "      <td>12</td>\n",
       "      <td>521</td>\n",
       "      <td>790</td>\n",
       "      <td>77</td>\n",
       "      <td>0</td>\n",
       "      <td>22</td>\n",
       "    </tr>\n",
       "    <tr>\n",
       "      <th>2</th>\n",
       "      <td>1</td>\n",
       "      <td>532</td>\n",
       "      <td>1306</td>\n",
       "      <td>77</td>\n",
       "      <td>0</td>\n",
       "      <td>20</td>\n",
       "    </tr>\n",
       "    <tr>\n",
       "      <th>3</th>\n",
       "      <td>27</td>\n",
       "      <td>415</td>\n",
       "      <td>1679</td>\n",
       "      <td>77</td>\n",
       "      <td>0</td>\n",
       "      <td>22</td>\n",
       "    </tr>\n",
       "    <tr>\n",
       "      <th>4</th>\n",
       "      <td>76</td>\n",
       "      <td>596</td>\n",
       "      <td>1072</td>\n",
       "      <td>77</td>\n",
       "      <td>0</td>\n",
       "      <td>20</td>\n",
       "    </tr>\n",
       "  </tbody>\n",
       "</table>\n",
       "</div>"
      ],
      "text/plain": [
       "   no  rata2 Lama akses materi  lama_berlatih (min 5, mak 15)  nilai  \\\n",
       "0   7                      590                            452     75   \n",
       "1  12                      521                            790     77   \n",
       "2   1                      532                           1306     77   \n",
       "3  27                      415                           1679     77   \n",
       "4  76                      596                           1072     77   \n",
       "\n",
       "   kesimpulannya  keyakinan  \n",
       "0              0         35  \n",
       "1              0         22  \n",
       "2              0         20  \n",
       "3              0         22  \n",
       "4              0         20  "
      ]
     },
     "execution_count": 358,
     "metadata": {},
     "output_type": "execute_result"
    }
   ],
   "source": [
    "data_1.df.head()"
   ]
  },
  {
   "cell_type": "code",
   "execution_count": null,
   "metadata": {},
   "outputs": [
    {
     "data": {
      "text/plain": [
       "{'rata2 Lama akses materi': [(104, 306), (114, 685), (490, 695)],\n",
       " 'lama_berlatih (min 5, mak 15)': [(51, 2539), (191, 7099), (4749, 7239)],\n",
       " 'nilai': [(-1, 33), (1, 99), (65, 101)]}"
      ]
     },
     "execution_count": 359,
     "metadata": {},
     "output_type": "execute_result"
    }
   ],
   "source": [
    "data_1.data_fuzzy"
   ]
  },
  {
   "cell_type": "code",
   "execution_count": null,
   "metadata": {},
   "outputs": [
    {
     "name": "stdout",
     "output_type": "stream",
     "text": [
      "7169\n"
     ]
    }
   ],
   "source": [
    "print(data_1.AllMax.get('lama_berlatih (min 5, mak 15)'))"
   ]
  },
  {
   "cell_type": "code",
   "execution_count": null,
   "metadata": {},
   "outputs": [
    {
     "name": "stdout",
     "output_type": "stream",
     "text": [
      "121\n"
     ]
    }
   ],
   "source": [
    "print(data_1.AllMin.get('lama_berlatih (min 5, mak 15)'))"
   ]
  },
  {
   "cell_type": "code",
   "execution_count": null,
   "metadata": {},
   "outputs": [
    {
     "data": {
      "image/png": "[encoded data removed]",
      "text/plain": [
       "<Figure size 1000x200 with 3 Axes>"
      ]
     },
     "metadata": {},
     "output_type": "display_data"
    }
   ],
   "source": [
    "data_1.showFigure()"
   ]
  },
  {
   "cell_type": "code",
   "execution_count": null,
   "metadata": {},
   "outputs": [
    {
     "data": {
      "text/plain": [
       "57.943925233644855"
      ]
     },
     "execution_count": 363,
     "metadata": {},
     "output_type": "execute_result"
    }
   ],
   "source": [
    "data_1.showAccuracy()"
   ]
  },
  {
   "cell_type": "code",
   "execution_count": null,
   "metadata": {},
   "outputs": [],
   "source": [
    "# data_1.optimation([0.1, 0.2, 0.3, 0.4, 0.5])"
   ]
  },
  {
   "cell_type": "code",
   "execution_count": null,
   "metadata": {},
   "outputs": [
    {
     "data": {
      "text/plain": [
       "{'no': np.int64(119), 'rata2 Lama akses materi': np.int64(690), 'lama_berlatih (min 5, mak 15)': np.int64(7169), 'nilai': np.int64(100), 'kesimpulannya': np.int64(0), 'keyakinan': np.int64(100)}, {'no': np.int64(1), 'rata2 Lama akses materi': np.int64(109), 'lama_berlatih (min 5, mak 15)': np.int64(121), 'nilai': np.int64(0), 'kesimpulannya': np.int64(0), 'keyakinan': np.int64(0)}, {'rata2 Lama akses materi': [(104, 306), (114, 685), (490, 695)], 'lama_berlatih (min 5, mak 15)': [(51, 2539), (191, 7099), (4749, 7239)], 'nilai': [(-1, 33), (1, 99), (65, 101)]}"
      ]
     },
     "execution_count": 365,
     "metadata": {},
     "output_type": "execute_result"
    }
   ],
   "source": [
    "data_1"
   ]
  }
 ],
 "metadata": {
  "kernelspec": {
   "display_name": ".venv",
   "language": "python",
   "name": "python3"
  },
  "language_info": {
   "codemirror_mode": {
    "name": "ipython",
    "version": 3
   },
   "file_extension": ".py",
   "mimetype": "text/x-python",
   "name": "python",
   "nbconvert_exporter": "python",
   "pygments_lexer": "ipython3",
   "version": "3.10.7"
  }
 },
 "nbformat": 4,
 "nbformat_minor": 2
}
