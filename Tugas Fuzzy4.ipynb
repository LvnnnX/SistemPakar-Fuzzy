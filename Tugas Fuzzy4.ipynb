{
 "cells": [
  {
   "cell_type": "code",
   "execution_count": 7,
   "metadata": {},
   "outputs": [
    {
     "name": "stdout",
     "output_type": "stream",
     "text": [
      "Combined DataFrame with Fuzzy Logic Results:\n",
      "lulus\n",
      "tidak lulus    107\n",
      "Name: count, dtype: int64\n"
     ]
    }
   ],
   "source": [
    "import pandas as pd\n",
    "from pathlib import Path\n",
    "import re\n",
    "\n",
    "PATH = Path().parent\n",
    "__DATA__ = PATH / \"db\"\n",
    "\n",
    "# Load the datasets\n",
    "df_sheet1 = pd.read_excel(__DATA__ / 'hasil hasil belajar.xlsx', sheet_name=0)\n",
    "df_sheet2 = pd.read_excel(__DATA__ / 'hasil hasil belajar.xlsx', sheet_name=1)\n",
    "df_sheet3 = pd.read_excel(__DATA__ / 'hasil hasil belajar.xlsx', sheet_name=2)\n",
    "\n",
    "# Rename columns\n",
    "df_sheet1 = df_sheet1.rename(columns={'keyakinan': 'certainty_factor'})\n",
    "df_sheet2 = df_sheet2.rename(columns={'keyakinan': 'certainty_factor'})\n",
    "df_sheet3 = df_sheet3.rename(columns={'kepercayaan': 'certainty_factor'})\n",
    "\n",
    "# Convert `lama_berlatih (min 5, mak 15)` to minutes as float\n",
    "def convert_to_minutes(time_str):\n",
    "    minutes, seconds = map(int, re.findall(r'\\d+', time_str))\n",
    "    return minutes + seconds / 60\n",
    "\n",
    "df_sheet1['lama_berlatih (min 5, mak 15)'] = df_sheet1['lama_berlatih (min 5, mak 15)'].apply(convert_to_minutes)\n",
    "df_sheet2['lama_berlatih (min 5, mak 15)'] = df_sheet2['lama_berlatih (min 5, mak 15)'].apply(convert_to_minutes)\n",
    "\n",
    "# Drop unnecessary columns\n",
    "df_sheet1 = df_sheet1.drop(['kesimpulannya', 'no'], axis=1)\n",
    "df_sheet2 = df_sheet2.drop(['kesimpulannya', 'no'], axis=1)\n",
    "df_sheet3 = df_sheet3.drop(['Unnamed: 0'], axis=1)\n",
    "\n",
    "# Define the membership function\n",
    "def calculate_membership(x, points):\n",
    "    if x <= points[0] or x >= points[3]:\n",
    "        return 0\n",
    "    elif points[0] < x <= points[1]:\n",
    "        return (x - points[0]) / (points[1] - points[0])\n",
    "    elif points[1] < x <= points[2]:\n",
    "        return 1\n",
    "    elif points[2] < x < points[3]:\n",
    "        return (points[3] - x) / (points[3] - points[2])\n",
    "\n",
    "# Apply the function to calculate fuzzy values for the specified columns\n",
    "for df in [df_sheet1, df_sheet2]:\n",
    "    df['rata2 Lama akses materi'] = df['rata2 Lama akses materi'].apply(lambda x: calculate_membership(x, [300, 450, 550, 700]))\n",
    "    df['lama_berlatih (min 5, mak 15)'] = df['lama_berlatih (min 5, mak 15)'].apply(lambda x: calculate_membership(x, [5, 10, 20, 25]))\n",
    "    df['nilai'] = df['nilai'].apply(lambda x: calculate_membership(x, [0, 40, 70, 100]))\n",
    "\n",
    "# Concatenate the datasets\n",
    "df_combined = pd.concat([df_sheet1, df_sheet2], ignore_index=True)\n",
    "\n",
    "# Define the fuzzy logic system function\n",
    "def fuzzy_logic_system(rata2_lama_akses_materi, lama_berlatih, nilai):\n",
    "    max_cf = -1\n",
    "    result = None\n",
    "\n",
    "    for _, row in df_sheet3.iterrows():\n",
    "        cf_rata2_lama_akses_materi = calculate_membership(rata2_lama_akses_materi, [300, 450, 550, 700])\n",
    "        cf_lama_berlatih = calculate_membership(lama_berlatih, [5, 10, 20, 25])\n",
    "        cf_nilai = calculate_membership(nilai, [0, 40, 70, 100])\n",
    "\n",
    "        cf = min(cf_rata2_lama_akses_materi, cf_lama_berlatih, cf_nilai)\n",
    "        if cf > max_cf:\n",
    "            max_cf = cf\n",
    "            result = row['lulus']\n",
    "\n",
    "    return result, max_cf\n",
    "\n",
    "# Apply the function to the combined DataFrame\n",
    "df_combined[['lulus', 'certainty_factor_lulus']] = df_combined.apply(\n",
    "    lambda row: fuzzy_logic_system(row['rata2 Lama akses materi'], row['lama_berlatih (min 5, mak 15)'], row['nilai']),\n",
    "    axis=1,\n",
    "    result_type='expand'\n",
    ")\n",
    "\n",
    "# Display the first 5 rows of the combined DataFrame\n",
    "print(\"Combined DataFrame with Fuzzy Logic Results:\")\n",
    "# print(df_combined.head().to_markdown(index=False, numalign=\"left\", stralign=\"left\"))\n",
    "print(df_combined['lulus'].value_counts())"
   ]
  },
  {
   "cell_type": "code",
   "execution_count": 13,
   "metadata": {},
   "outputs": [
    {
     "name": "stdout",
     "output_type": "stream",
     "text": [
      "rata-rata kolom 1:  434.6355140186916\n",
      "minimum kolom 1:  109\n",
      "maksimum kolom 1:  690\n",
      "rata-rata kolom 2:  15.405763239875387\n",
      "minimum kolom 2:  2.0166666666666666\n",
      "maksimum kolom 2:  119.48333333333333\n",
      "rata-rata kolom 3:  76.86514018691588\n",
      "minimum kolom 3:  0.0\n",
      "maksimum kolom 3:  100.0\n"
     ]
    },
    {
     "data": {
      "text/plain": [
       "107"
      ]
     },
     "execution_count": 13,
     "metadata": {},
     "output_type": "execute_result"
    }
   ],
   "source": [
    "df1 = pd.read_excel(__DATA__ / 'hasil hasil belajar.xlsx', sheet_name=0)\n",
    "df2 = pd.read_excel(__DATA__ / 'hasil hasil belajar.xlsx', sheet_name=1)\n",
    "\n",
    "concat = pd.concat([df1, df2], ignore_index=True)\n",
    "#rata rata kolom 1\n",
    "rata_rata = concat['rata2 Lama akses materi'].mean()\n",
    "#minimum kolom 1\n",
    "minimum = concat['rata2 Lama akses materi'].min()\n",
    "#maksimum kolom 1\n",
    "maksimum = concat['rata2 Lama akses materi'].max()\n",
    "print(\"rata-rata kolom 1: \", rata_rata)\n",
    "print(\"minimum kolom 1: \", minimum)\n",
    "print(\"maksimum kolom 1: \", maksimum)\n",
    "\n",
    "concat['lama_berlatih (min 5, mak 15)'] = concat['lama_berlatih (min 5, mak 15)'].apply(convert_to_minutes)\n",
    "#rata rata kolom 2\n",
    "rata_rata = concat['lama_berlatih (min 5, mak 15)'].mean()\n",
    "#minimum kolom 2\n",
    "minimum = concat['lama_berlatih (min 5, mak 15)'].min()\n",
    "#maksimum kolom 2\n",
    "maksimum = concat['lama_berlatih (min 5, mak 15)'].max()\n",
    "\n",
    "print(\"rata-rata kolom 2: \", rata_rata)\n",
    "print(\"minimum kolom 2: \", minimum)\n",
    "print(\"maksimum kolom 2: \", maksimum)\n",
    "\n",
    "#rata rata kolom 3\n",
    "rata_rata = concat['nilai'].mean()\n",
    "#minimum kolom 3\n",
    "minimum = concat['nilai'].min()\n",
    "#maksimum kolom 3\n",
    "maksimum = concat['nilai'].max()\n",
    "\n",
    "print(\"rata-rata kolom 3: \", rata_rata)\n",
    "print(\"minimum kolom 3: \", minimum)\n",
    "print(\"maksimum kolom 3: \", maksimum)\n",
    "\n",
    "len(concat)"
   ]
  }
 ],
 "metadata": {
  "kernelspec": {
   "display_name": ".venv",
   "language": "python",
   "name": "python3"
  },
  "language_info": {
   "codemirror_mode": {
    "name": "ipython",
    "version": 3
   },
   "file_extension": ".py",
   "mimetype": "text/x-python",
   "name": "python",
   "nbconvert_exporter": "python",
   "pygments_lexer": "ipython3",
   "version": "3.11.5"
  }
 },
 "nbformat": 4,
 "nbformat_minor": 2
}
