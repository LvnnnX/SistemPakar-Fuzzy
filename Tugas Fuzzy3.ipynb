{
 "cells": [
  {
   "cell_type": "code",
   "execution_count": 41,
   "metadata": {},
   "outputs": [],
   "source": [
    "import pandas as pd\n",
    "from pathlib import Path\n",
    "import matplotlib.pyplot as plt\n",
    "from tqdm import tqdm\n",
    "import numpy as np"
   ]
  },
  {
   "cell_type": "code",
   "execution_count": 42,
   "metadata": {},
   "outputs": [],
   "source": [
    "__PATH__ = Path().parent\n",
    "__DATA__ = __PATH__ / 'db'"
   ]
  },
  {
   "cell_type": "code",
   "execution_count": 43,
   "metadata": {},
   "outputs": [],
   "source": [
    "def load_data(ref:str='hasil hasil belajar', type:str='xlsx', sheet:int=2) -> pd.DataFrame :\n",
    "    \"\"\"\n",
    "    \n",
    "    Fungsi ini mengembalikan data yang dibutuhkan untuk tugas Fuzzy Logic (Rules)\n",
    "    ref : str \n",
    "        Nama file yang akan di load | default : 'hasil hasil belajar.xlsx'\n",
    "    type : str {'xlsx','csv'}\n",
    "        Tipe file yang akan di load | default : 'xlsx'\n",
    "    sheet : int\n",
    "        Sheet yang akan di load | default : 2\n",
    "    \n",
    "    Output : pd.DataFrame\n",
    "    \n",
    "    \"\"\"\n",
    "    try : \n",
    "        if type == 'xlsx' : \n",
    "            output = pd.read_excel(__DATA__ / f'{ref}.xlsx', sheet_name=sheet)\n",
    "        elif type == 'csv' : \n",
    "            output = pd.read_csv(__DATA__ / f'{ref}.csv', sheet_name=sheet)\n",
    "        else : \n",
    "            raise ValueError(f'Tipe file {type} tidak dikenal')\n",
    "    except : \n",
    "        raise FileNotFoundError(f'File {ref} tidak ditemukan')\n",
    "        # print(f'File {ref} tidak ditemukan')\n",
    "    \n",
    "    return output "
   ]
  },
  {
   "cell_type": "code",
   "execution_count": 44,
   "metadata": {},
   "outputs": [],
   "source": [
    "def triangular_fuzzy(max:float, min:float, mid:float, x:float) -> float:\n",
    "    \"\"\"\n",
    "    Fungsi ini mengembalikan nilai fuzzy dari suatu nilai x\n",
    "    max : float\n",
    "        Batas atas\n",
    "    min : float\n",
    "        Batas bawah\n",
    "    mid : float\n",
    "        Nilai tengah\n",
    "    x : float\n",
    "        Nilai x yang akan dihitung\n",
    "        \n",
    "    Output : float\n",
    "    \"\"\"\n",
    "    if x <= min : \n",
    "        return 0\n",
    "    elif x <= mid : \n",
    "        return (x - min) / (mid - min)\n",
    "    elif x <= max : \n",
    "        return (max - x) / (max - mid)\n",
    "    else : \n",
    "        return 0\n",
    "\n",
    "\n",
    "def trapezoidal_fuzzy(max:float, min:float, mid1:float, mid2:float, x:float, type:str) -> float:\n",
    "    \"\"\"\n",
    "    Fungsi ini mengembalikan nilai fuzzy dari suatu nilai x\n",
    "    max : float\n",
    "        Batas atas\n",
    "    min : float\n",
    "        Batas bawah\n",
    "    mid1 : float\n",
    "        Nilai tengah 1\n",
    "    mid2 : float\n",
    "        Nilai tengah 2\n",
    "    x : float\n",
    "        Nilai x yang akan dihitung\n",
    "    type : str {'left','right'}\n",
    "        Tipe trapesium yang akan dihitung\n",
    "        \n",
    "    Output : float\n",
    "    \"\"\"\n",
    "    if type == 'left' : \n",
    "        if x <= min : \n",
    "            return 1\n",
    "        elif x <= mid1 : \n",
    "            return (x - min) / (mid1 - min)\n",
    "        elif x <= mid2 : \n",
    "            return 1\n",
    "        elif x <= max : \n",
    "            return (max - x) / (max - mid2)\n",
    "        else : \n",
    "            return 0\n",
    "    elif type == 'right' : \n",
    "        if x <= min : \n",
    "            return 0\n",
    "        elif x <= mid1 : \n",
    "            return (x - min) / (mid1 - min)\n",
    "        elif x <= mid2 : \n",
    "            return 1\n",
    "        elif x <= max : \n",
    "            return (max - x) / (max - mid2)\n",
    "        else : \n",
    "            return 1\n",
    "    else : \n",
    "        return 0\n"
   ]
  },
  {
   "cell_type": "code",
   "execution_count": 25,
   "metadata": {},
   "outputs": [],
   "source": [
    "class DataFuzzy:\n",
    "    def __init__(self, df_name, treshold, domain_width) -> None:\n",
    "        df_name = df_name or \"hasil hasil belajar\"\n",
    "        self.treshold = treshold\n",
    "        self.domain_width = domain_width\n",
    "        df1 = load_data(df_name, sheet=0)\n",
    "        df2 = load_data(df_name, sheet=1)\n",
    "        self.df = pd.concat([df1,df2], ignore_index=True)\n",
    "        \n",
    "        # df1['kesimpulannya'] = df1['kesimpulannya'].apply(lambda x: 0)\n",
    "        # df1['keyakinan'] = df1['keyakinan'].apply(lambda x: 100-x)\n",
    "        \n",
    "        self.df['nilai'] = self.df['nilai'].apply(lambda x: int(x))\n",
    "        self.findAll()\n",
    "        self.columns = self.df.columns.to_list()\n",
    "        self.changeMenitToDetik_Column(['lama_berlatih (min 5, mak 15)'])\n",
    "        self.load_rules()\n",
    "        self.Process()\n",
    "        \n",
    "    def load_rules(self) -> None:\n",
    "        df = load_data()\n",
    "        df = df.drop(columns=['Unnamed: 0'])\n",
    "        #ubah jadi lulus semua\n",
    "        for iter1, row in df.iterrows() : \n",
    "            if row['lulus'] == 'tidak lulus' : \n",
    "                df.loc[iter1, 'kepercayaan'] = 100 - row['kepercayaan']\n",
    "                df.loc[iter1, 'lulus'] = 'lulus'\n",
    "        \n",
    "        #ubah dari angka menjadi kecil, sedang, besar\n",
    "        for iter1, row in df.iterrows() : \n",
    "            if row['kepercayaan'] < 25 : \n",
    "                df.loc[iter1, 'kepercayaan'] = 'kecil'\n",
    "            elif row['kepercayaan'] < 75 : \n",
    "                df.loc[iter1, 'kepercayaan'] = 'sedang'\n",
    "            else : \n",
    "                df.loc[iter1, 'kepercayaan'] = 'besar'\n",
    "        \n",
    "        self.rules = df\n",
    "                \n",
    "    def findMax(self, column:str) -> float:\n",
    "        return self.df[column].max()\n",
    "    \n",
    "    def findMin(self, column:str) -> float:\n",
    "        return self.df[column].min()\n",
    "    \n",
    "    def findAll(self):\n",
    "        self.findAllMax()\n",
    "        self.findAllMin()\n",
    "    \n",
    "    def findAllMax(self) -> dict:\n",
    "        self.AllMax = {col:self.findMax(col) for col in self.df.columns}\n",
    "\n",
    "    def findAllMin(self) -> dict:\n",
    "        self.AllMin = {col:self.findMin(col) for col in self.df.columns}\n",
    "    \n",
    "    def deleteColumns(self, columns:list) -> None:\n",
    "        self.df.drop(columns=columns, inplace=True)\n",
    "        \n",
    "    @staticmethod\n",
    "    def __menittoDetikconverter(x:str='7 menit, 32 detik') -> int:\n",
    "        \"\"\"\n",
    "        Fungsi ini mengembalikan nilai detik dari suatu string waktu\n",
    "        x : str\n",
    "            String waktu dalam format 'menit menit, detik det\n",
    "        Output : int\n",
    "        \"\"\"\n",
    "        menit, detik = x.split(',')\n",
    "        menit = int(menit.split(' ')[0])\n",
    "        detik = int(detik.split(' ')[1])\n",
    "        return menit*60+detik\n",
    "    \n",
    "    def changeMenitToDetik_Column(self, columns:list) -> None:\n",
    "        for col in columns:\n",
    "            self.df[col] = self.df[col].apply(lambda x: self.__menittoDetikconverter(x))\n",
    "        self.findAll()\n",
    "            \n",
    "    @staticmethod\n",
    "    def make_domain(min:int,max:int,amount:int, domain_width:float) -> list:\n",
    "        \"\"\"\n",
    "        Fungsi make_domain digunakan untuk membuat domain fuzzy\n",
    "        \n",
    "        min : nilai minimum dari domain fuzzy\n",
    "        max : nilai maksimum dari domain fuzzy\n",
    "        amount: jumlah domain fuzzy yang akan dibuat\n",
    "        \n",
    "        \"\"\"\n",
    "        # print([(min, int(max/2)), (int(max/4), int(int(max/2)+int(max/4))), (int(max/2), max)])\n",
    "        return [(min, int(max/2) + int(int(max/2)*domain_width)), \\\n",
    "            (int(max/4)+ int(int(max/4)*domain_width), int(int(max/2)+int(max/4))+int(int(int(max/2)+int(max/4))*domain_width)),\\\n",
    "            (int(max/2)+int(int(max/2)*domain_width), max)]\n",
    "            \n",
    "    def makeFuzzyDomain(self, exception:list=[]) -> None:\n",
    "        self.data_fuzzy = {}\n",
    "        for value in self.columns:\n",
    "            if(value not in exception):\n",
    "                try:\n",
    "                    ans = (self.make_domain(min=int(self.AllMin[value]),max=int(self.AllMax[value]),amount=3, domain_width=self.domain_width))\n",
    "                    self.data_fuzzy[value] = ans\n",
    "                except ValueError as e:\n",
    "                    self.data_fuzzy[value] = None\n",
    "                \n",
    "    @staticmethod\n",
    "    def checkRange(data:dict, title:str, value:int) -> list[int]:\n",
    "        \"\"\"\n",
    "        Fungsi ini mengembalikan index rentang fuzzy dari suatu nilai\n",
    "        data : dict\n",
    "            Data fuzzy yang akan di cek\n",
    "        title : str\n",
    "            Judul data yang akan di cek\n",
    "        value : int\n",
    "            Nilai yang akan di cek\n",
    "            \n",
    "        Minus : Belum bisa mencari jika dia berada di 2 rentang bersamaan\n",
    "            \n",
    "        Output : list[int]\n",
    "        \"\"\"\n",
    "        ans = []\n",
    "        # print(data[title][0])\n",
    "        for idx, (min,max) in enumerate(data[title]):\n",
    "            if (idx == 0) and (value <= min):\n",
    "                ans.append(idx)\n",
    "            elif (idx == len(data[title])-1) and (value >= max):\n",
    "                ans.append(idx)\n",
    "            elif value >= min and value <= max:\n",
    "                ans.append(idx)\n",
    "        return ans\n",
    "    \n",
    "    def showFigure(self) -> None:\n",
    "        if self.data_fuzzy is None:\n",
    "            raise ValueError(\"Data Fuzzy belum dibuat\")\n",
    "        \n",
    "        if self.AllMax is None or self.AllMin is None:\n",
    "            raise ValueError(\"Data Max atau Min belum dibuat\")\n",
    "        \n",
    "        fig, ax = plt.subplots(1,len(self.data_fuzzy),figsize=(10,2))  \n",
    "        for key,data in enumerate(self.data_fuzzy):\n",
    "            for idx, (min,max) in enumerate(self.data_fuzzy[data]):\n",
    "                # print(min,max)\n",
    "                if idx == 0:\n",
    "                    ax[key].plot([min, (max+min)/2, max], [1, 1, 0])\n",
    "                elif idx == len(self.data_fuzzy[data])-1:\n",
    "                    ax[key].plot([min, (max+min)/2, max], [0, 1, 1])\n",
    "                else:\n",
    "                    ax[key].plot([min, (max+min)/2, max], [0, 1, 0])\n",
    "                \n",
    "                ax[key].set_title(f'{data}', fontsize=6)\n",
    "                ax[key].set_ylabel('Fuzzy Value', fontsize=6)\n",
    "                \n",
    "    @staticmethod\n",
    "    def flatten_list(list_flatten:list) -> list:\n",
    "        \"\"\"\n",
    "        Fungsi flatten_list digunakan untuk meratakan list\n",
    "        \n",
    "        list_flatten : list yang akan diratakan\n",
    "        \n",
    "        \"\"\"\n",
    "        return [item for sublist in list_flatten for item in sublist]\n",
    "\n",
    "    def Fuzzifikasi(self, exceptions:list[str]) -> dict:\n",
    "        \"\"\"\"\n",
    "        \n",
    "        Fungsi ini digunakan untuk menghitung nilai fuzzy dari suatu data dan mendapatkan derajat keanggotaannya\n",
    "        \n",
    "        \n",
    "        \"\"\"\n",
    "        if self.df is None:\n",
    "            raise ValueError(\"Data belum di load\")\n",
    "        \n",
    "        if self.data_fuzzy is None:\n",
    "            raise ValueError(\"Data Fuzzy belum dibuat\")\n",
    "        \n",
    "        self.hasilFuzzy = None\n",
    "        all_result = []\n",
    "\n",
    "        for key,value in self.df.iterrows():\n",
    "            result = {}\n",
    "            for idx, data in value.items():\n",
    "                if (idx not in exceptions):\n",
    "                    ans = []\n",
    "                    selected = self.checkRange(self.data_fuzzy, idx, data)\n",
    "                    for num in selected:\n",
    "                        maks = self.data_fuzzy[idx][num][1]\n",
    "                        minn = self.data_fuzzy[idx][num][0]\n",
    "                        if num == 0: #kalo di anggota kiri (trapezoidal kiri)\n",
    "                            ans.append(trapezoidal_fuzzy(min=minn, mid1=minn, mid2=(maks+minn)/2, max=maks, x=data, type='left'))\n",
    "                            # ans.append(triangular_fuzzy(min=(maks+minn)/2, mid=(maks+minn)/2, max=maks, x=data))\n",
    "                        elif num == len(self.data_fuzzy[idx])-1: #kalo di anggota kanan (trapezoidal kanan)\n",
    "                            ans.append(trapezoidal_fuzzy(min=minn, mid1=(maks+minn)/2, mid2=maks, max=maks, x=data, type='right'))\n",
    "                            # ans.append(triangular_fuzzy(min=minn, mid=minn, max=maks, x=data))\n",
    "                        else: #kalo di anggota tengah (triangular)\n",
    "                            ans.append(triangular_fuzzy(min=minn, mid=(maks+minn)/2, max=maks, x=data))\n",
    "                    result[idx] = selected, ans\n",
    "                \n",
    "            all_result.append(result)\n",
    "            \n",
    "        self.hasilFuzzy = all_result\n",
    "        return all_result\n",
    "\n",
    "    def showFuzzyResult(self, idx:int) -> None:\n",
    "        \"\"\"\n",
    "        \n",
    "        Fungsi ini digunakan untuk menampilkan hasil fuzzy dari suatu data\n",
    "        idx : int\n",
    "            Index data yang ingin ditampilkan\n",
    "        \n",
    "        \"\"\"\n",
    "        if self.hasilFuzzy is None:\n",
    "            raise ValueError(\"Data Fuzzy belum dihitung\")\n",
    "        if idx >= len(self.hasilFuzzy):\n",
    "            raise ValueError(\"Index yang diinput melebihi jumlah data\")\n",
    "        \n",
    "        for key,value in self.hasilFuzzy[idx].items():\n",
    "            print(key,value)\n",
    "            \n",
    "    @staticmethod\n",
    "    def findCombination(data:list) -> list:\n",
    "        \"\"\"\n",
    "        Fungsi ini mengembalikan semua kombinasi dari suatu list untuk fuzzy\n",
    "        data : list\n",
    "            List yang isinya list dari data yang ingin dicari\n",
    "            \n",
    "        Output : list\n",
    "        \"\"\"\n",
    "        \n",
    "        all_count = [0 for _ in range(len(data))]\n",
    "        prob = 1\n",
    "        for i in all_count:\n",
    "            prob *= len(data[i])\n",
    "        all_comb = []\n",
    "        for _ in range(prob):\n",
    "            temp = []\n",
    "            try :\n",
    "                for idx,value in enumerate(all_count):\n",
    "                    temp.append(data[idx][value])\n",
    "                if temp not in all_comb:\n",
    "                    all_comb.append(temp)\n",
    "                    \n",
    "                all_count[-1] += 1\n",
    "                for i in range(len(all_count)-1,-1,-1):\n",
    "                    if all_count[i] == len(data[i]):\n",
    "                        all_count[i] = 0\n",
    "                        all_count[i-1] += 1\n",
    "            except:\n",
    "                break                \n",
    "        return all_comb\n",
    "   \n",
    "    @staticmethod\n",
    "    def applyRules(data:list, rules:pd.DataFrame, value:float) -> list:\n",
    "        \"\"\"\n",
    "        \n",
    "        Fungsi ini digunakan untuk mencocokkan rules pada data fuzzy (satu data)\n",
    "        data : list\n",
    "            List data fuzzy yang akan di cek\n",
    "        rules : pd.DataFrame\n",
    "            Data rules yang akan di cek\n",
    "        value : float\n",
    "            Derajat keanggotaan dari data fuzzy\n",
    "        \n",
    "        \"\"\"\n",
    "        for key,rule in rules.iterrows():\n",
    "            if(data == [rule[0], rule[1], rule[2]]): \n",
    "                return [(rule.iloc[-2], rule.iloc[-1])]\n",
    "                \n",
    "   \n",
    "    def Inference(self) -> None:\n",
    "        \"\"\"\n",
    "        \n",
    "        Fungsi ini digunakan untuk memproses data fuzzy yang sudah dihitung, dan mencari hasil inferensi\n",
    "        \n",
    "        \"\"\"\n",
    "        if self.hasilFuzzy is None:\n",
    "            raise ValueError(\"Data Fuzzy belum dihitung\")\n",
    "        \n",
    "        #Mencari alpha predikat dari tiap data\n",
    "        all_alphapredikat = []\n",
    "        for value in self.hasilFuzzy:\n",
    "            result = []\n",
    "            for idx, data in value.items():\n",
    "                result.append(data[0])\n",
    "                \n",
    "            ans = self.findCombination((result))\n",
    "            all_combi = []\n",
    "            for search in ans:\n",
    "                smallestValue = value[list(value.keys())[0]][1][value[list(value.keys())[0]][0].index(search[0])]\n",
    "                for key,(idx, data) in enumerate(value.items()):\n",
    "                    try:\n",
    "                        smallestValue = min(smallestValue, data[1][data[0].index(search[key])])\n",
    "                    except:\n",
    "                        pass\n",
    "                    # print(data[1][search[idx]])\n",
    "                all_combi.append((search, smallestValue))\n",
    "            \n",
    "            all_alphapredikat.append(all_combi)\n",
    "            \n",
    "        mapping = {\n",
    "            0 : 'kecil',\n",
    "            1 : 'sedang',\n",
    "            2 : 'besar'\n",
    "        }\n",
    "        \n",
    "        self.alphapredikat = all_alphapredikat\n",
    "        \n",
    "        inferenced_result = [] \n",
    "        #cari max agregasi rendah, sedang, besar dari semua data\n",
    "        for data in all_alphapredikat:\n",
    "            best = {\n",
    "                'kecil' : 0,\n",
    "                'sedang' : 0,\n",
    "                'besar' : 0\n",
    "            }\n",
    "            for combination,value in data:\n",
    "                mapped_value = [mapping[value] for value in combination]\n",
    "                result = self.applyRules(mapped_value, self.rules, value)\n",
    "                for idx in range(len(result)):\n",
    "                    best[result[idx][1]] = max(best[result[idx][1]], value)\n",
    "            inferenced_result.append(best)\n",
    "        self.InferenceResult = inferenced_result\n",
    "    \n",
    "    @staticmethod\n",
    "    def calculate_coa(row, labels, ranges):\n",
    "        \"\"\"\n",
    "        Menghitung Center of Area (COA) untuk baris dalam DataFrame output agregat.\n",
    "\n",
    "        Args:\n",
    "        row: Baris dari DataFrame output agregat.\n",
    "        labels: Label dari himpunan fuzzy.\n",
    "        ranges: Kamus rentang untuk setiap himpunan fuzzy.\n",
    "\n",
    "        Returns:\n",
    "        Center of Area (COA) untuk baris tersebut.\n",
    "        \"\"\"\n",
    "        numerator = 0\n",
    "        denominator = 0\n",
    "        for label in labels:\n",
    "            a, b, c = ranges[label]\n",
    "            # Hitung pusat segitiga\n",
    "            center = (a + b + c) / 3\n",
    "            # Hitung luas segitiga\n",
    "            area = 0.5 * (c - a) * row[label]\n",
    "            numerator += center * area\n",
    "            denominator += area\n",
    "        if denominator == 0:\n",
    "            return 0\n",
    "        return numerator / denominator\n",
    "            \n",
    "    def defuzzification(self) -> None:\n",
    "        \"\"\"\n",
    "        \n",
    "        Fungsi ini digunakan untuk mendefuzzifikasi hasil inferensi\n",
    "        \n",
    "        \"\"\"\n",
    "        if self.InferenceResult is None:\n",
    "            raise ValueError(\"Data Inference belum dihitung\")\n",
    "        \n",
    "        all_result = []\n",
    "        for value in self.InferenceResult:\n",
    "            result = self.calculate_coa(value, ['kecil', 'sedang', 'besar'], {\n",
    "                'kecil': (0, 0, 25),\n",
    "                'sedang': (25, 50, 75),\n",
    "                'besar': (75, 100, 100)\n",
    "            })\n",
    "            all_result.append(result)\n",
    "        \n",
    "        self.defuzzification_result = all_result\n",
    "        \n",
    "    def predict(self) -> list:\n",
    "        if self.defuzzification_result is None:\n",
    "            raise ValueError(\"Data defuzzifikasi belum dihitung\")\n",
    "        \n",
    "        return ['tidak lulus' if value < self.treshold else 'lulus' for value in self.defuzzification_result]\n",
    "    \n",
    "    def ConfusionMatrix(self, hasil_count:dict) -> plt:\n",
    "        \"\"\"\n",
    "        \n",
    "        Fungsi ini menampilkan confusion matrix dari hasil akurasi\n",
    "\n",
    "        \n",
    "        \"\"\"\n",
    "        plt.figure(figsize=(4,4))\n",
    "        plt.title('Confusion Matrix')\n",
    "        plt.xlabel('Predicted')\n",
    "        plt.ylabel('Actual')\n",
    "        plt.imshow([[hasil_count['lulus (TP)'],hasil_count['lulus (FP)']],[hasil_count['tidak lulus (FP)'],hasil_count['tidak lulus (TP)']]])\n",
    "        plt.colorbar()\n",
    "        plt.xticks([0,1],['lulus','tidak lulus'])\n",
    "        plt.yticks([0,1],['lulus','tidak lulus'])\n",
    "        plt.show()\n",
    "        \n",
    "        \n",
    "    def showAccuracy(self, output=False) -> None:\n",
    "        \"\"\"\n",
    "        \n",
    "        Fungsi ini digunakan untuk menampilkan akurasi dari hasil inferensi\n",
    "        Accuracy = (Jumlah data yang benar / Jumlah data) * 100%\n",
    "        \n",
    "        \"\"\"\n",
    "        if self.defuzzification_result is None:\n",
    "            raise ValueError(\"Data defuzzifikasi belum dihitung\")\n",
    "        \n",
    "        predicted = self.predict()\n",
    "        \n",
    "        hasil_count = {\n",
    "            \"tidak lulus (TP)\" : 0,\n",
    "            \"lulus (TP)\" : 0,\n",
    "            \"tidak lulus (FP)\" : 0,\n",
    "            \"lulus (FP)\" : 0\n",
    "        }\n",
    "        \n",
    "        count = 0\n",
    "        maps = {\n",
    "            0 : 'tidak lulus',\n",
    "            1 : 'lulus'\n",
    "        }\n",
    "        for key,value in enumerate(predicted):\n",
    "            real =  maps[self.df.loc[key, 'kesimpulannya']]\n",
    "            if real == value:\n",
    "                count += 1\n",
    "                hasil_count[f\"{real} (TP)\"] += 1\n",
    "            else:\n",
    "                hasil_count[f\"{real} (FP)\"] += 1\n",
    "                \n",
    "                \n",
    "        if output:\n",
    "            self.ConfusionMatrix(hasil_count)\n",
    "            print(f\"Accuracy : {count/len(self.defuzzification_result)*100:.2f}%\")\n",
    "        return count/len(self.defuzzification_result)*100\n",
    "        \n",
    "    def Process(self, FuzzyDomain_ColumnsException:list[str]=['no','kesimpulannya','keyakinan']) -> None:\n",
    "        self.makeFuzzyDomain(exception=FuzzyDomain_ColumnsException)\n",
    "        self.Fuzzifikasi(exceptions=FuzzyDomain_ColumnsException)\n",
    "        self.Inference()\n",
    "        self.defuzzification()\n",
    "        self.showAccuracy() \n",
    "        \n",
    "    @staticmethod    \n",
    "    def optimization_graph(x:list,y:list, xlabel:str, ylabel:str):\n",
    "        fig = plt.figure()\n",
    "        ax = fig.add_subplot(111)\n",
    "        ax.plot(x,y)  \n",
    "        xlabel = xlabel or 'Domain Range'\n",
    "        ylabel = ylabel or 'Accuracy'\n",
    "        # ax.set_xticks(x)\n",
    "        ax.set_xlabel(xlabel)\n",
    "        ax.set_ylabel(ylabel)\n",
    "        ax.set_title('Optimization Graph')\n",
    "        plt.show()\n",
    "        \n",
    "    def optimation(self, treshold:list[int], domain_width:list[float]) -> None:\n",
    "        x,y=[],[]\n",
    "        bestFit = None\n",
    "        iteration = 0\n",
    "        for i in tqdm(range(0,len(treshold)), desc='Predicting'):\n",
    "        # for data in treshold:\n",
    "            for j in range(0,len(domain_width)):\n",
    "                iteration += 1\n",
    "                self.domain_width = domain_width[j]\n",
    "                self.treshold = treshold[i]\n",
    "                self.Inference()\n",
    "                x.append(iteration)\n",
    "                y.append(self.showAccuracy())\n",
    "                if bestFit is None:\n",
    "                    bestFit = ((treshold[i], domain_width[j]),self.showAccuracy())\n",
    "                elif bestFit[1] < self.showAccuracy():\n",
    "                    bestFit = ((treshold[i], domain_width[j]),self.showAccuracy())\n",
    "        print(f\"x : {x}, y : {y}\")\n",
    "        self.optimization_graph(x,y,xlabel='iteration', ylabel='Accuracy')\n",
    "        self.bestFit = bestFit\n",
    "        print(f\"Best Fit : {bestFit}\")\n",
    "        "
   ]
  },
  {
   "cell_type": "code",
   "execution_count": 26,
   "metadata": {},
   "outputs": [],
   "source": [
    "class PSO (DataFuzzy):\n",
    "    \"\"\"\n",
    "    Particle Swarm Optimization\n",
    "    \n",
    "    \"\"\"\n",
    "    def __init__(self, treshold, domain_width):\n",
    "        super().__init__('hasil hasil belajar',treshold=treshold, domain_width=domain_width)\n",
    "        self.gbest = None\n",
    "        \n",
    "    def fitness(self, x, y):\n",
    "        self.treshold = x\n",
    "        self.domain_width = y\n",
    "        self.Process()\n",
    "        return self.showAccuracy() \n",
    "\n",
    "    def train(self, n_particles, n_iter, w=0.5, c1=1, c2=1):\n",
    "        \"\"\"\n",
    "        Particle Swarm Optimization\n",
    "        \n",
    "        n_particles : int\n",
    "            Jumlah partikel\n",
    "        n_iter : int\n",
    "            Jumlah iterasi\n",
    "        w : float\n",
    "            Inertia weight\n",
    "        c1 : float\n",
    "            Cognitive weight\n",
    "        c2 : float\n",
    "            Social weight\n",
    "        \n",
    "        \"\"\"\n",
    "        class Particle:\n",
    "            def __init__(self, treshold, domain_width):\n",
    "                self.treshold = treshold\n",
    "                self.domain_width = domain_width\n",
    "                self.pbest = (treshold, domain_width)\n",
    "                self.pbest_score = -1\n",
    "                self.velocity = [0,0]\n",
    "                \n",
    "        x,y = [],[]\n",
    "        gbest = None\n",
    "        CallbackCount = 0\n",
    "        particles = [Particle(np.random.randint(0,100), np.random.rand()) for _ in range(n_particles)]\n",
    "        for i in tqdm(range(n_iter), desc='PSO'):\n",
    "            for particle in particles:\n",
    "                score = self.fitness(particle.treshold, particle.domain_width)\n",
    "                if score > particle.pbest_score:\n",
    "                    particle.pbest_score = score\n",
    "                    particle.pbest = (particle.treshold, particle.domain_width)\n",
    "                if gbest is None or score > gbest[1]:\n",
    "                    gbest = (particle.treshold, particle.domain_width), score\n",
    "                print(f\"Particle : {particle.treshold}, {particle.domain_width}, Score : {score}\")\n",
    "            \n",
    "            CallbackCount += 1 if score == gbest[1] else 0\n",
    "            if CallbackCount >= 5:\n",
    "                print(f\"Callbacks reached. Stopping...\")\n",
    "                break\n",
    "            x.append(i+1)\n",
    "            y.append(gbest[1])\n",
    "            \n",
    "            for particle in particles:\n",
    "                r1 = np.random.rand()\n",
    "                r2 = np.random.rand()\n",
    "                particle.velocity[0] = w * particle.velocity[0] + c1 * r1 * (particle.pbest[0] - particle.treshold) + c2 * r2 * (gbest[0][0] - particle.treshold)\n",
    "                particle.treshold += particle.velocity[0]\n",
    "                particle.treshold = max(0, particle.treshold)\n",
    "                particle.treshold = min(100, particle.treshold)\n",
    "                \n",
    "                r1 = np.random.rand()\n",
    "                r2 = np.random.rand()\n",
    "                particle.velocity[1] = w * particle.velocity[1] + c1 * r1 * (particle.pbest[1] - particle.domain_width) + c2 * r2 * (gbest[0][1] - particle.domain_width)\n",
    "                particle.domain_width += particle.velocity[1]\n",
    "                particle.domain_width = max(0, particle.domain_width)\n",
    "                particle.domain_width = min(1, particle.domain_width)\n",
    "                \n",
    "                randomNum = np.random.rand()\n",
    "                if randomNum < 0.1:\n",
    "                    particle.treshold = np.random.randint(0,100)\n",
    "                    particle.domain_width = np.random.rand()\n",
    "        print(f\"Best Fit : {gbest}\")\n",
    "        self.optimization_graph(x,y, xlabel='iteration', ylabel='Accuracy')\n",
    "        self.gbest = gbest\n",
    "        return gbest\n",
    "        \n",
    "    def __repr__(self):\n",
    "        return f\"Treshold : {self.treshold}\\n Domain Width : {self.domain_width}, Best Fit : {self.gbest}\"\n",
    "        \n",
    "    "
   ]
  },
  {
   "cell_type": "code",
   "execution_count": 27,
   "metadata": {},
   "outputs": [
    {
     "name": "stderr",
     "output_type": "stream",
     "text": [
      "C:\\Users\\Windows\\AppData\\Local\\Temp\\ipykernel_79532\\4176031106.py:32: FutureWarning: Setting an item of incompatible dtype is deprecated and will raise an error in a future version of pandas. Value 'kecil' has dtype incompatible with int64, please explicitly cast to a compatible dtype first.\n",
      "  df.loc[iter1, 'kepercayaan'] = 'kecil'\n",
      "C:\\Users\\Windows\\AppData\\Local\\Temp\\ipykernel_79532\\4176031106.py:261: FutureWarning: Series.__getitem__ treating keys as positions is deprecated. In a future version, integer keys will always be treated as labels (consistent with DataFrame behavior). To access a value by position, use `ser.iloc[pos]`\n",
      "  if(data == [rule[0], rule[1], rule[2]]):\n"
     ]
    }
   ],
   "source": [
    "data = DataFuzzy('hasil hasil belajar', 45, 0.01)"
   ]
  },
  {
   "cell_type": "code",
   "execution_count": 28,
   "metadata": {},
   "outputs": [
    {
     "data": {
      "image/png": "[encoded data removed]",
      "text/plain": [
       "<Figure size 400x400 with 2 Axes>"
      ]
     },
     "metadata": {},
     "output_type": "display_data"
    },
    {
     "name": "stdout",
     "output_type": "stream",
     "text": [
      "Accuracy : 70.09%\n"
     ]
    },
    {
     "data": {
      "text/plain": [
       "70.09345794392523"
      ]
     },
     "execution_count": 28,
     "metadata": {},
     "output_type": "execute_result"
    }
   ],
   "source": [
    "data.showAccuracy(output=True)"
   ]
  },
  {
   "cell_type": "code",
   "execution_count": 29,
   "metadata": {},
   "outputs": [
    {
     "name": "stderr",
     "output_type": "stream",
     "text": [
      "C:\\Users\\Windows\\AppData\\Local\\Temp\\ipykernel_79532\\4176031106.py:32: FutureWarning: Setting an item of incompatible dtype is deprecated and will raise an error in a future version of pandas. Value 'kecil' has dtype incompatible with int64, please explicitly cast to a compatible dtype first.\n",
      "  df.loc[iter1, 'kepercayaan'] = 'kecil'\n",
      "C:\\Users\\Windows\\AppData\\Local\\Temp\\ipykernel_79532\\4176031106.py:261: FutureWarning: Series.__getitem__ treating keys as positions is deprecated. In a future version, integer keys will always be treated as labels (consistent with DataFrame behavior). To access a value by position, use `ser.iloc[pos]`\n",
      "  if(data == [rule[0], rule[1], rule[2]]):\n"
     ]
    }
   ],
   "source": [
    "data1 = PSO(50, 0.01)"
   ]
  },
  {
   "cell_type": "code",
   "execution_count": 30,
   "metadata": {},
   "outputs": [
    {
     "name": "stderr",
     "output_type": "stream",
     "text": [
      "PSO:   0%|          | 0/250 [00:00<?, ?it/s]C:\\Users\\Windows\\AppData\\Local\\Temp\\ipykernel_79532\\4176031106.py:261: FutureWarning: Series.__getitem__ treating keys as positions is deprecated. In a future version, integer keys will always be treated as labels (consistent with DataFrame behavior). To access a value by position, use `ser.iloc[pos]`\n",
      "  if(data == [rule[0], rule[1], rule[2]]):\n"
     ]
    },
    {
     "name": "stdout",
     "output_type": "stream",
     "text": [
      "Particle : 17, 0.30017999464206635, Score : 70.09345794392523\n",
      "Particle : 47, 0.993665518792562, Score : 53.271028037383175\n",
      "Particle : 3, 0.38193339288704675, Score : 45.794392523364486\n"
     ]
    },
    {
     "name": "stderr",
     "output_type": "stream",
     "text": [
      "PSO:   0%|          | 1/250 [00:00<03:18,  1.25it/s]"
     ]
    },
    {
     "name": "stdout",
     "output_type": "stream",
     "text": [
      "Particle : 69, 0.9615677890477357, Score : 54.20560747663551\n",
      "Particle : 91, 0.8792857361150457, Score : 54.20560747663551\n",
      "Particle : 17.0, 0.30017999464206635, Score : 70.09345794392523\n",
      "Particle : 33.184640697970394, 0.4846586277535423, Score : 56.074766355140184\n",
      "Particle : 6.8707102811639915, 0.3171954835632075, Score : 45.794392523364486\n"
     ]
    },
    {
     "name": "stderr",
     "output_type": "stream",
     "text": [
      "PSO:   1%|          | 2/250 [00:01<03:32,  1.17it/s]"
     ]
    },
    {
     "name": "stdout",
     "output_type": "stream",
     "text": [
      "Particle : 57.29047642221873, 0.8120394911801253, Score : 53.271028037383175\n",
      "Particle : 97, 0.6034082913283868, Score : 54.20560747663551\n",
      "Particle : 17.0, 0.30017999464206635, Score : 70.09345794392523\n",
      "Particle : 13.555364656126741, 0.20292597271939306, Score : 70.09345794392523\n",
      "Particle : 11.10237876504426, 0.33513044523292834, Score : 71.02803738317756\n",
      "Particle : 46, 0.9054629039167703, Score : 53.271028037383175\n",
      "Particle : 22.96790787104382, 0.3059335343717504, Score : 70.09345794392523\n"
     ]
    },
    {
     "name": "stderr",
     "output_type": "stream",
     "text": [
      "PSO:   1%|          | 3/250 [00:02<03:54,  1.06it/s]"
     ]
    },
    {
     "name": "stdout",
     "output_type": "stream",
     "text": [
      "Particle : 13.097587552816865, 0.32554195163803074, Score : 70.09345794392523\n",
      "Particle : 1.761498443302962, 0.16157458047318618, Score : 45.794392523364486\n"
     ]
    },
    {
     "name": "stderr",
     "output_type": "stream",
     "text": [
      "PSO:   2%|▏         | 4/250 [00:03<04:01,  1.02it/s]"
     ]
    },
    {
     "name": "stdout",
     "output_type": "stream",
     "text": [
      "Particle : 13.218213006984396, 0.3440979260677888, Score : 71.02803738317756\n",
      "Particle : 44.66649488866504, 0.48486142659749104, Score : 53.271028037383175\n",
      "Particle : 0, 0.1793811567663936, Score : 45.794392523364486\n",
      "Particle : 12.971557823445417, 0.3280733233504977, Score : 70.09345794392523\n",
      "Particle : 9.748130942511619, 0.3274061437397238, Score : 71.96261682242991\n",
      "Particle : 12.061086172651564, 0.34546589494887847, Score : 71.02803738317756\n",
      "Particle : 35.606850777695506, 0.4720278078122097, Score : 55.140186915887845\n"
     ]
    },
    {
     "name": "stderr",
     "output_type": "stream",
     "text": [
      "PSO:   2%|▏         | 5/250 [00:04<04:13,  1.04s/it]"
     ]
    },
    {
     "name": "stdout",
     "output_type": "stream",
     "text": [
      "Particle : 9.10461558169499, 0.21342423648838857, Score : 69.1588785046729\n",
      "Particle : 14.990307533639196, 0.31817641766370786, Score : 70.09345794392523\n",
      "Particle : 13.741447192115947, 0.4103219253729926, Score : 70.09345794392523\n",
      "Particle : 9.946104485807137, 0.3296200972363485, Score : 70.09345794392523\n",
      "Particle : 26.591759869425758, 0.36601404483987476, Score : 67.28971962616822\n"
     ]
    },
    {
     "name": "stderr",
     "output_type": "stream",
     "text": [
      "PSO:   2%|▏         | 6/250 [00:06<04:19,  1.06s/it]"
     ]
    },
    {
     "name": "stdout",
     "output_type": "stream",
     "text": [
      "Particle : 67, 0.3186443771943859, Score : 53.271028037383175\n",
      "Particle : 15.097688448001152, 0.31774729000792523, Score : 70.09345794392523\n",
      "Particle : 25, 0.08860954683290478, Score : 72.89719626168224\n",
      "Particle : 31, 0.24891284787639711, Score : 69.1588785046729\n",
      "Particle : 17.913334760661908, 0.2920646989595814, Score : 68.22429906542055\n"
     ]
    },
    {
     "name": "stderr",
     "output_type": "stream",
     "text": [
      "PSO:   3%|▎         | 7/250 [00:07<04:19,  1.07s/it]"
     ]
    },
    {
     "name": "stdout",
     "output_type": "stream",
     "text": [
      "Particle : 16.96735802552591, 0.3880999000471286, Score : 70.09345794392523\n",
      "Particle : 25.99429451123241, 0.27101331308791216, Score : 70.09345794392523\n",
      "Particle : 22.753323131411634, 0.038099592119553306, Score : 76.63551401869158\n",
      "Particle : 7.264859482203757, 0.20277605004184807, Score : 45.794392523364486\n",
      "Particle : 15.995589317779233, 0.08702743597192397, Score : 74.76635514018692\n"
     ]
    },
    {
     "name": "stderr",
     "output_type": "stream",
     "text": [
      "PSO:   3%|▎         | 8/250 [00:08<04:17,  1.06s/it]"
     ]
    },
    {
     "name": "stdout",
     "output_type": "stream",
     "text": [
      "Particle : 2.493658837781613, 0.14392366721479813, Score : 45.794392523364486\n",
      "Particle : 26.679206571505972, 0.1105029367560234, Score : 68.22429906542055\n",
      "Particle : 21.62998469711745, 0.012844614762877567, Score : 78.50467289719626\n",
      "Particle : 11.531144587744683, 0.07384013750559534, Score : 76.63551401869158\n"
     ]
    },
    {
     "name": "stderr",
     "output_type": "stream",
     "text": [
      "PSO:   4%|▎         | 9/250 [00:09<04:08,  1.03s/it]"
     ]
    },
    {
     "name": "stdout",
     "output_type": "stream",
     "text": [
      "Particle : 20.542977370943547, 0, Score : 78.50467289719626\n",
      "Particle : 18.956465831853897, 0.04046645942124981, Score : 77.57009345794393\n",
      "Particle : 24.600716745128597, 0.0811758507467927, Score : 74.76635514018692\n"
     ]
    },
    {
     "name": "stderr",
     "output_type": "stream",
     "text": [
      "PSO:   4%|▍         | 10/250 [00:10<03:58,  1.01it/s]"
     ]
    },
    {
     "name": "stdout",
     "output_type": "stream",
     "text": [
      "Particle : 21.06831547997036, 0.00021712608453969794, Score : 79.43925233644859\n",
      "Particle : 23.11372765138129, 0, Score : 78.50467289719626\n",
      "Particle : 23.08381398544502, 0, Score : 78.50467289719626\n",
      "Particle : 29.37408039181724, 0, Score : 77.57009345794393\n",
      "Particle : 20.50985937658686, 0.00042873155527001217, Score : 78.50467289719626\n",
      "Particle : 20.787480871396813, 0, Score : 78.50467289719626\n",
      "Particle : 27.821321173009565, 0, Score : 77.57009345794393\n"
     ]
    },
    {
     "name": "stderr",
     "output_type": "stream",
     "text": [
      "PSO:   4%|▍         | 11/250 [00:10<03:48,  1.04it/s]"
     ]
    },
    {
     "name": "stdout",
     "output_type": "stream",
     "text": [
      "Particle : 21.552200889019623, 0, Score : 79.43925233644859\n",
      "Particle : 29.734650057162792, 0, Score : 77.57009345794393\n",
      "Particle : 18.669928910027178, 0, Score : 76.63551401869158\n",
      "Particle : 20.80796623201846, 0, Score : 78.50467289719626\n",
      "Particle : 21.259876051572213, 0, Score : 79.43925233644859\n",
      "Particle : 20.629739773008716, 0, Score : 78.50467289719626\n",
      "Particle : 24.902507987252076, 0.02137780211482097, Score : 77.57009345794393\n"
     ]
    },
    {
     "name": "stderr",
     "output_type": "stream",
     "text": [
      "PSO:   5%|▍         | 12/250 [00:11<03:36,  1.10it/s]"
     ]
    },
    {
     "name": "stdout",
     "output_type": "stream",
     "text": [
      "Particle : 20.296160792719917, 0, Score : 78.50467289719626\n",
      "Particle : 20.920068372411922, 0, Score : 78.50467289719626\n"
     ]
    },
    {
     "name": "stderr",
     "output_type": "stream",
     "text": [
      "PSO:   5%|▌         | 13/250 [00:12<03:28,  1.14it/s]"
     ]
    },
    {
     "name": "stdout",
     "output_type": "stream",
     "text": [
      "Particle : 17.931220554670958, 0, Score : 77.57009345794393\n",
      "Particle : 21.02952526339806, 0, Score : 78.50467289719626\n",
      "Particle : 13.1015668182873, 0.04607428061772627, Score : 77.57009345794393\n",
      "Particle : 21.54076240904208, 0, Score : 79.43925233644859\n",
      "Particle : 21.171568281458683, 0, Score : 79.43925233644859\n",
      "Particle : 19.737086546633513, 0, Score : 77.57009345794393\n",
      "Particle : 21.440145578286394, 0, Score : 79.43925233644859\n"
     ]
    },
    {
     "name": "stderr",
     "output_type": "stream",
     "text": [
      "PSO:   6%|▌         | 14/250 [00:13<03:23,  1.16it/s]"
     ]
    },
    {
     "name": "stdout",
     "output_type": "stream",
     "text": [
      "Particle : 11.452982440303398, 0.017202792841770738, Score : 76.63551401869158\n",
      "Particle : 21.83096015616097, 0, Score : 79.43925233644859\n",
      "Particle : 21.26084678269504, 2.3846265074465174e-05, Score : 79.43925233644859\n"
     ]
    },
    {
     "name": "stderr",
     "output_type": "stream",
     "text": [
      "PSO:   6%|▌         | 15/250 [00:14<03:19,  1.18it/s]"
     ]
    },
    {
     "name": "stdout",
     "output_type": "stream",
     "text": [
      "Particle : 21.72329028854514, 0, Score : 79.43925233644859\n",
      "Particle : 21.45240019394762, 0, Score : 79.43925233644859\n",
      "Particle : 18.515447254800016, 0.019057997056274166, Score : 78.50467289719626\n",
      "Particle : 21.3896803551392, 0, Score : 79.43925233644859\n",
      "Particle : 21.11904154630135, 0.00029627888256824773, Score : 79.43925233644859\n",
      "Particle : 21.764044195447163, 0, Score : 79.43925233644859\n",
      "Particle : 21.242775375461335, 0, Score : 79.43925233644859\n"
     ]
    },
    {
     "name": "stderr",
     "output_type": "stream",
     "text": [
      "PSO:   6%|▋         | 16/250 [00:14<03:15,  1.19it/s]"
     ]
    },
    {
     "name": "stdout",
     "output_type": "stream",
     "text": [
      "Particle : 22.949710404282982, 0.014599864587768106, Score : 78.50467289719626\n",
      "Particle : 21.102337916262172, 0, Score : 79.43925233644859\n",
      "Particle : 21.02554506256866, 0.0003726652437804591, Score : 78.50467289719626\n"
     ]
    },
    {
     "name": "stderr",
     "output_type": "stream",
     "text": [
      "PSO:   7%|▋         | 17/250 [00:15<03:17,  1.18it/s]"
     ]
    },
    {
     "name": "stdout",
     "output_type": "stream",
     "text": [
      "Particle : 20.911023441138195, 0, Score : 78.50467289719626\n",
      "Particle : 21.346433954323892, 0, Score : 79.43925233644859\n",
      "Particle : 22.321076795060293, 0.012690522794224756, Score : 78.50467289719626\n",
      "Particle : 71, 0.050565705974385144, Score : 51.4018691588785\n",
      "Particle : 20.982514330897096, 0.0002997848916533061, Score : 78.50467289719626\n"
     ]
    },
    {
     "name": "stderr",
     "output_type": "stream",
     "text": [
      "PSO:   7%|▋         | 18/250 [00:16<03:15,  1.19it/s]"
     ]
    },
    {
     "name": "stdout",
     "output_type": "stream",
     "text": [
      "Particle : 20.657747524092407, 0, Score : 78.50467289719626\n",
      "Particle : 21.31908497829861, 3.465365821024997e-06, Score : 79.43925233644859\n",
      "Particle : 18.555765413576992, 0.004056212362430237, Score : 76.63551401869158\n",
      "Particle : 27.26340382729287, 0, Score : 77.57009345794393\n",
      "Particle : 91, 0.5859983755638151, Score : 54.20560747663551\n"
     ]
    },
    {
     "name": "stderr",
     "output_type": "stream",
     "text": [
      "PSO:   8%|▊         | 19/250 [00:17<03:14,  1.19it/s]"
     ]
    },
    {
     "name": "stdout",
     "output_type": "stream",
     "text": [
      "Particle : 20.82694182717377, 0, Score : 78.50467289719626\n",
      "Particle : 21.203624979292535, 4.019209560338449e-05, Score : 79.43925233644859\n",
      "Particle : 18.72365475315389, 0, Score : 76.63551401869158\n",
      "Particle : 1.4627349386719324, 0, Score : 46.728971962616825\n",
      "Particle : 39.45690027958029, 0.14171533965084343, Score : 66.35514018691589\n",
      "Particle : 21.41598309710268, 9.944874661891684e-05, Score : 79.43925233644859\n",
      "Particle : 21.35872216094556, 4.746349383917587e-05, Score : 79.43925233644859\n"
     ]
    },
    {
     "name": "stderr",
     "output_type": "stream",
     "text": [
      "PSO:   8%|▊         | 20/250 [00:18<03:12,  1.19it/s]"
     ]
    },
    {
     "name": "stdout",
     "output_type": "stream",
     "text": [
      "Particle : 18.783532211869968, 0, Score : 76.63551401869158\n",
      "Particle : 4.418001705036354, 0, Score : 46.728971962616825\n",
      "Particle : 0, 0, Score : 45.794392523364486\n",
      "Particle : 21.46319582987142, 0.00016921238283850858, Score : 79.43925233644859\n",
      "Particle : 21.454386125429956, 0.0001463244100253731, Score : 79.43925233644859\n"
     ]
    },
    {
     "name": "stderr",
     "output_type": "stream",
     "text": [
      "PSO:   8%|▊         | 21/250 [00:19<03:10,  1.20it/s]"
     ]
    },
    {
     "name": "stdout",
     "output_type": "stream",
     "text": [
      "Particle : 19.166686456682182, 0.014109540799532574, Score : 78.50467289719626\n",
      "Particle : 16.924292790656356, 0, Score : 76.63551401869158\n"
     ]
    },
    {
     "name": "stderr",
     "output_type": "stream",
     "text": [
      "PSO:   9%|▉         | 22/250 [00:20<03:13,  1.18it/s]"
     ]
    },
    {
     "name": "stdout",
     "output_type": "stream",
     "text": [
      "Particle : 0.2248228816062472, 0, Score : 46.728971962616825\n",
      "Particle : 21.45736586249999, 0.00011378244897821306, Score : 79.43925233644859\n",
      "Particle : 21.517224346851236, 9.075298469441933e-05, Score : 79.43925233644859\n",
      "Particle : 19.943322461725657, 0.02138215322280853, Score : 79.43925233644859\n",
      "Particle : 29.59508650310727, 0, Score : 77.57009345794393\n",
      "Particle : 35.90361286602547, 0, Score : 74.76635514018692\n",
      "Particle : 21.123065923897812, 4.067661065236917e-05, Score : 79.43925233644859\n",
      "Particle : 21.296520151499788, 6.071981119073401e-05, Score : 79.43925233644859\n"
     ]
    },
    {
     "name": "stderr",
     "output_type": "stream",
     "text": [
      "PSO:   9%|▉         | 23/250 [00:20<03:06,  1.21it/s]"
     ]
    },
    {
     "name": "stdout",
     "output_type": "stream",
     "text": [
      "Particle : 24, 0.8270463104827884, Score : 53.271028037383175\n",
      "Particle : 21.071224414242547, 0, Score : 79.43925233644859\n",
      "Particle : 39.15237208700849, 0, Score : 71.96261682242991\n",
      "Particle : 21.058112801577515, 1.0504420864744347e-06, Score : 78.50467289719626\n"
     ]
    },
    {
     "name": "stderr",
     "output_type": "stream",
     "text": [
      "PSO:  10%|▉         | 24/250 [00:21<03:06,  1.21it/s]"
     ]
    },
    {
     "name": "stdout",
     "output_type": "stream",
     "text": [
      "Particle : 21.367358903945085, 0.0001762692021633379, Score : 79.43925233644859\n",
      "Particle : 20.403970008574095, 0.45341651977819, Score : 66.35514018691589\n",
      "Particle : 16.819788703171948, 0, Score : 76.63551401869158\n",
      "Particle : 32.922546535053044, 0, Score : 75.70093457943925\n",
      "Particle : 21.113267012748288, 0, Score : 79.43925233644859\n"
     ]
    },
    {
     "name": "stderr",
     "output_type": "stream",
     "text": [
      "PSO:  10%|█         | 25/250 [00:22<03:03,  1.22it/s]"
     ]
    },
    {
     "name": "stdout",
     "output_type": "stream",
     "text": [
      "Particle : 21.280370307261965, 0.00011783450743001018, Score : 79.43925233644859\n",
      "Particle : 18.406635068573834, 0, Score : 77.57009345794393\n",
      "Particle : 52, 0.2549849543529865, Score : 51.4018691588785\n",
      "Particle : 18.535737059857325, 0, Score : 77.57009345794393\n",
      "Particle : 21.175611975948172, 0.0002065983853556676, Score : 79.43925233644859\n"
     ]
    },
    {
     "name": "stderr",
     "output_type": "stream",
     "text": [
      "PSO:  10%|█         | 26/250 [00:23<03:05,  1.21it/s]"
     ]
    },
    {
     "name": "stdout",
     "output_type": "stream",
     "text": [
      "Particle : 21.274252628819852, 8.4739728715024e-05, Score : 79.43925233644859\n",
      "Particle : 19.844655982953263, 0, Score : 78.50467289719626\n"
     ]
    },
    {
     "name": "stderr",
     "output_type": "stream",
     "text": [
      "PSO:  11%|█         | 27/250 [00:24<03:03,  1.22it/s]"
     ]
    },
    {
     "name": "stdout",
     "output_type": "stream",
     "text": [
      "Particle : 22.179654994939774, 0, Score : 79.43925233644859\n",
      "Particle : 11.743599403581005, 0, Score : 77.57009345794393\n",
      "Particle : 21.217959046466525, 0.0002257606992204609, Score : 79.43925233644859\n",
      "Particle : 21.423252229919683, 7.614666023370877e-05, Score : 79.43925233644859\n",
      "Particle : 20.638027093273106, 0, Score : 78.50467289719626\n",
      "Particle : 6.216232222816787, 0, Score : 46.728971962616825\n",
      "Particle : 14.733006762398386, 0, Score : 75.70093457943925\n",
      "Particle : 21.222133653121325, 0.00012817413009347277, Score : 79.43925233644859\n",
      "Particle : 21.25200005612389, 8.517726948298495e-05, Score : 79.43925233644859\n",
      "Particle : 20.936339722988365, 0, Score : 78.50467289719626\n"
     ]
    },
    {
     "name": "stderr",
     "output_type": "stream",
     "text": [
      "PSO:  11%|█         | 28/250 [00:24<03:00,  1.23it/s]"
     ]
    },
    {
     "name": "stdout",
     "output_type": "stream",
     "text": [
      "Particle : 22.03298675851829, 0, Score : 79.43925233644859\n",
      "Particle : 25.487814428971546, 0, Score : 77.57009345794393\n"
     ]
    },
    {
     "name": "stderr",
     "output_type": "stream",
     "text": [
      "PSO:  12%|█▏        | 29/250 [00:25<02:58,  1.24it/s]"
     ]
    },
    {
     "name": "stdout",
     "output_type": "stream",
     "text": [
      "Particle : 21.239278447768015, 3.42589502249163e-05, Score : 79.43925233644859\n",
      "Particle : 21.233702716774328, 0.00015354439520730528, Score : 79.43925233644859\n",
      "Particle : 21.067295235433487, 0, Score : 79.43925233644859\n"
     ]
    },
    {
     "name": "stderr",
     "output_type": "stream",
     "text": [
      "PSO:  12%|█▏        | 30/250 [00:26<02:54,  1.26it/s]"
     ]
    },
    {
     "name": "stdout",
     "output_type": "stream",
     "text": [
      "Particle : 29.34792381348179, 0, Score : 77.57009345794393\n",
      "Particle : 28.083630543370024, 0, Score : 77.57009345794393\n",
      "Particle : 30, 0.841734373431207, Score : 53.271028037383175\n",
      "Particle : 21.316395733597382, 0.00011083239383201236, Score : 79.43925233644859\n",
      "Particle : 20.124156684894047, 0.004292750723572931, Score : 78.50467289719626\n",
      "Particle : 20.31391601161713, 0, Score : 78.50467289719626\n",
      "Particle : 22.668789018657833, 0.00010084286278231905, Score : 78.50467289719626\n",
      "Particle : 21.61970246213367, 0, Score : 79.43925233644859\n",
      "Particle : 21.423409561970733, 0.00014769180102119716, Score : 79.43925233644859\n"
     ]
    },
    {
     "name": "stderr",
     "output_type": "stream",
     "text": [
      "PSO:  12%|█▏        | 31/250 [00:27<02:56,  1.24it/s]"
     ]
    },
    {
     "name": "stdout",
     "output_type": "stream",
     "text": [
      "Particle : 19.971933917148988, 0.018704039904888992, Score : 79.43925233644859\n",
      "Particle : 16.42251007721565, 0, Score : 76.63551401869158\n",
      "Particle : 17.337603696840276, 0.00026255126539016826, Score : 76.63551401869158\n",
      "Particle : 78, 0.38750683796578744, Score : 53.271028037383175\n",
      "Particle : 21.29530536202647, 9.935190994592958e-05, Score : 79.43925233644859\n"
     ]
    },
    {
     "name": "stderr",
     "output_type": "stream",
     "text": [
      "PSO:  13%|█▎        | 32/250 [00:28<02:59,  1.21it/s]"
     ]
    },
    {
     "name": "stdout",
     "output_type": "stream",
     "text": [
      "Particle : 19.921089848262373, 0.011478367487861503, Score : 78.50467289719626\n",
      "Particle : 18.60865845907716, 0, Score : 76.63551401869158\n",
      "Particle : 18.245162606151798, 0.0003174434029837317, Score : 77.57009345794393\n"
     ]
    },
    {
     "name": "stderr",
     "output_type": "stream",
     "text": [
      "PSO:  13%|█▎        | 33/250 [00:28<02:57,  1.22it/s]"
     ]
    },
    {
     "name": "stdout",
     "output_type": "stream",
     "text": [
      "Particle : 68.27393069839815, 0, Score : 51.4018691588785\n",
      "Particle : 21.41555409347107, 9.266968294106479e-05, Score : 79.43925233644859\n",
      "Particle : 20.547735975411687, 0.007373378793393877, Score : 79.43925233644859\n",
      "Particle : 24.64106710300074, 0, Score : 78.50467289719626\n",
      "Particle : 21.886904713448907, 0.00021741283562285926, Score : 79.43925233644859\n",
      "Particle : 41.804808336134, 0, Score : 71.02803738317756\n",
      "Particle : 21.233557347912296, 0.00012212468829975553, Score : 79.43925233644859\n"
     ]
    },
    {
     "name": "stderr",
     "output_type": "stream",
     "text": [
      "PSO:  13%|█▎        | 33/250 [00:29<03:15,  1.11it/s]"
     ]
    },
    {
     "name": "stdout",
     "output_type": "stream",
     "text": [
      "Particle : 20.537575765563503, 0.015231751827062701, Score : 79.43925233644859\n",
      "Callbacks reached. Stopping...\n",
      "Best Fit : ((21.06831547997036, 0.00021712608453969794), 79.43925233644859)\n"
     ]
    },
    {
     "name": "stderr",
     "output_type": "stream",
     "text": [
      "\n"
     ]
    },
    {
     "data": {
      "image/png": "[encoded data removed]",
      "text/plain": [
       "<Figure size 640x480 with 1 Axes>"
      ]
     },
     "metadata": {},
     "output_type": "display_data"
    },
    {
     "data": {
      "text/plain": [
       "((21.06831547997036, 0.00021712608453969794), 79.43925233644859)"
      ]
     },
     "execution_count": 30,
     "metadata": {},
     "output_type": "execute_result"
    }
   ],
   "source": [
    "data1.train(n_particles=5, n_iter=250, w=0.5, c1=1, c2=1)"
   ]
  },
  {
   "cell_type": "code",
   "execution_count": 31,
   "metadata": {},
   "outputs": [],
   "source": [
    "# data.optimation(np.arange(0,50,1), np.arange(0,1,0.1))"
   ]
  },
  {
   "cell_type": "code",
   "execution_count": 32,
   "metadata": {},
   "outputs": [
    {
     "data": {
      "image/png": "[encoded data removed]",
      "text/plain": [
       "<Figure size 1000x200 with 3 Axes>"
      ]
     },
     "metadata": {},
     "output_type": "display_data"
    }
   ],
   "source": [
    "data.showFigure()\n",
    "#7169 121"
   ]
  },
  {
   "cell_type": "code",
   "execution_count": 33,
   "metadata": {},
   "outputs": [],
   "source": [
    "def make_domain2(min:int,max:int,amount:int,domain_width:float=0) -> list:\n",
    "    \"\"\"\n",
    "    Fungsi make_domain digunakan untuk membuat domain fuzzy\n",
    "    \n",
    "    min : nilai minimum dari domain fuzzy\n",
    "    max : nilai maksimum dari domain fuzzy\n",
    "    amount: jumlah domain fuzzy yang akan dibuat\n",
    "    domain_width : pergeseran domain fuzzy (default : 0.05)\n",
    "    shifting yang digunakan yaitu (max-min)*domain_width\n",
    "    \n",
    "    \"\"\"\n",
    "    \n",
    "    return [(min, int(max/2)), (int(max/4), int(int(max/2)+int(max/4))), (int(max/2), max)]\n",
    "        "
   ]
  },
  {
   "cell_type": "code",
   "execution_count": 34,
   "metadata": {},
   "outputs": [
    {
     "data": {
      "text/plain": [
       "[(121, 3589), (1794, 5383), (3589, 7179)]"
      ]
     },
     "execution_count": 34,
     "metadata": {},
     "output_type": "execute_result"
    }
   ],
   "source": [
    "make_domain2(min=121, max=7179, amount=3)"
   ]
  },
  {
   "cell_type": "code",
   "execution_count": 35,
   "metadata": {},
   "outputs": [
    {
     "data": {
      "text/plain": [
       "np.float64(924.3457943925233)"
      ]
     },
     "execution_count": 35,
     "metadata": {},
     "output_type": "execute_result"
    }
   ],
   "source": [
    "data.df['lama_berlatih (min 5, mak 15)'].sum() / len(data.df['lama_berlatih (min 5, mak 15)'])"
   ]
  },
  {
   "cell_type": "code",
   "execution_count": 36,
   "metadata": {},
   "outputs": [],
   "source": [
    "# data.bestFit"
   ]
  },
  {
   "cell_type": "code",
   "execution_count": 37,
   "metadata": {},
   "outputs": [
    {
     "name": "stderr",
     "output_type": "stream",
     "text": [
      "C:\\Users\\Windows\\AppData\\Local\\Temp\\ipykernel_79532\\4176031106.py:261: FutureWarning: Series.__getitem__ treating keys as positions is deprecated. In a future version, integer keys will always be treated as labels (consistent with DataFrame behavior). To access a value by position, use `ser.iloc[pos]`\n",
      "  if(data == [rule[0], rule[1], rule[2]]):\n"
     ]
    },
    {
     "data": {
      "text/plain": [
       "79.43925233644859"
      ]
     },
     "execution_count": 37,
     "metadata": {},
     "output_type": "execute_result"
    }
   ],
   "source": [
    "data.treshold = 22\n",
    "data.domain_width = 0\n",
    "\n",
    "data.Process()\n",
    "data.showAccuracy()"
   ]
  },
  {
   "cell_type": "code",
   "execution_count": 38,
   "metadata": {},
   "outputs": [
    {
     "data": {
      "text/plain": [
       "['tidak lulus',\n",
       " 'lulus',\n",
       " 'lulus',\n",
       " 'lulus',\n",
       " 'lulus',\n",
       " 'lulus',\n",
       " 'lulus',\n",
       " 'lulus',\n",
       " 'lulus',\n",
       " 'lulus',\n",
       " 'tidak lulus',\n",
       " 'lulus',\n",
       " 'lulus',\n",
       " 'lulus',\n",
       " 'lulus',\n",
       " 'lulus',\n",
       " 'lulus',\n",
       " 'lulus',\n",
       " 'lulus',\n",
       " 'lulus',\n",
       " 'lulus',\n",
       " 'lulus',\n",
       " 'lulus',\n",
       " 'lulus',\n",
       " 'tidak lulus',\n",
       " 'lulus',\n",
       " 'lulus',\n",
       " 'lulus',\n",
       " 'lulus',\n",
       " 'lulus',\n",
       " 'tidak lulus',\n",
       " 'lulus',\n",
       " 'tidak lulus',\n",
       " 'tidak lulus',\n",
       " 'lulus',\n",
       " 'tidak lulus',\n",
       " 'tidak lulus',\n",
       " 'lulus',\n",
       " 'lulus',\n",
       " 'lulus',\n",
       " 'lulus',\n",
       " 'lulus',\n",
       " 'lulus',\n",
       " 'lulus',\n",
       " 'lulus',\n",
       " 'lulus',\n",
       " 'lulus',\n",
       " 'lulus',\n",
       " 'lulus',\n",
       " 'tidak lulus',\n",
       " 'tidak lulus',\n",
       " 'tidak lulus',\n",
       " 'tidak lulus',\n",
       " 'tidak lulus',\n",
       " 'tidak lulus',\n",
       " 'tidak lulus',\n",
       " 'tidak lulus',\n",
       " 'tidak lulus',\n",
       " 'tidak lulus',\n",
       " 'tidak lulus',\n",
       " 'tidak lulus',\n",
       " 'tidak lulus',\n",
       " 'tidak lulus',\n",
       " 'tidak lulus',\n",
       " 'tidak lulus',\n",
       " 'tidak lulus',\n",
       " 'lulus',\n",
       " 'tidak lulus',\n",
       " 'tidak lulus',\n",
       " 'tidak lulus',\n",
       " 'tidak lulus',\n",
       " 'tidak lulus',\n",
       " 'tidak lulus',\n",
       " 'lulus',\n",
       " 'tidak lulus',\n",
       " 'tidak lulus',\n",
       " 'lulus',\n",
       " 'tidak lulus',\n",
       " 'tidak lulus',\n",
       " 'tidak lulus',\n",
       " 'lulus',\n",
       " 'tidak lulus',\n",
       " 'tidak lulus',\n",
       " 'tidak lulus',\n",
       " 'tidak lulus',\n",
       " 'lulus',\n",
       " 'tidak lulus',\n",
       " 'tidak lulus',\n",
       " 'lulus',\n",
       " 'tidak lulus',\n",
       " 'tidak lulus',\n",
       " 'lulus',\n",
       " 'lulus',\n",
       " 'tidak lulus',\n",
       " 'lulus',\n",
       " 'tidak lulus',\n",
       " 'tidak lulus',\n",
       " 'lulus',\n",
       " 'lulus',\n",
       " 'lulus',\n",
       " 'lulus',\n",
       " 'tidak lulus',\n",
       " 'lulus',\n",
       " 'tidak lulus',\n",
       " 'tidak lulus',\n",
       " 'tidak lulus',\n",
       " 'tidak lulus']"
      ]
     },
     "execution_count": 38,
     "metadata": {},
     "output_type": "execute_result"
    }
   ],
   "source": [
    "data.predict()"
   ]
  },
  {
   "cell_type": "code",
   "execution_count": 39,
   "metadata": {},
   "outputs": [],
   "source": [
    "DFNew = pd.DataFrame(data.predict(), columns=['kesimpulannya'])"
   ]
  },
  {
   "cell_type": "code",
   "execution_count": 40,
   "metadata": {},
   "outputs": [
    {
     "data": {
      "text/html": [
       "<div>\n",
       "<style scoped>\n",
       "    .dataframe tbody tr th:only-of-type {\n",
       "        vertical-align: middle;\n",
       "    }\n",
       "\n",
       "    .dataframe tbody tr th {\n",
       "        vertical-align: top;\n",
       "    }\n",
       "\n",
       "    .dataframe thead th {\n",
       "        text-align: right;\n",
       "    }\n",
       "</style>\n",
       "<table border=\"1\" class=\"dataframe\">\n",
       "  <thead>\n",
       "    <tr style=\"text-align: right;\">\n",
       "      <th></th>\n",
       "      <th>kesimpulannya</th>\n",
       "    </tr>\n",
       "  </thead>\n",
       "  <tbody>\n",
       "    <tr>\n",
       "      <th>0</th>\n",
       "      <td>tidak lulus</td>\n",
       "    </tr>\n",
       "    <tr>\n",
       "      <th>1</th>\n",
       "      <td>lulus</td>\n",
       "    </tr>\n",
       "    <tr>\n",
       "      <th>2</th>\n",
       "      <td>lulus</td>\n",
       "    </tr>\n",
       "    <tr>\n",
       "      <th>3</th>\n",
       "      <td>lulus</td>\n",
       "    </tr>\n",
       "    <tr>\n",
       "      <th>4</th>\n",
       "      <td>lulus</td>\n",
       "    </tr>\n",
       "    <tr>\n",
       "      <th>...</th>\n",
       "      <td>...</td>\n",
       "    </tr>\n",
       "    <tr>\n",
       "      <th>102</th>\n",
       "      <td>lulus</td>\n",
       "    </tr>\n",
       "    <tr>\n",
       "      <th>103</th>\n",
       "      <td>tidak lulus</td>\n",
       "    </tr>\n",
       "    <tr>\n",
       "      <th>104</th>\n",
       "      <td>tidak lulus</td>\n",
       "    </tr>\n",
       "    <tr>\n",
       "      <th>105</th>\n",
       "      <td>tidak lulus</td>\n",
       "    </tr>\n",
       "    <tr>\n",
       "      <th>106</th>\n",
       "      <td>tidak lulus</td>\n",
       "    </tr>\n",
       "  </tbody>\n",
       "</table>\n",
       "<p>107 rows × 1 columns</p>\n",
       "</div>"
      ],
      "text/plain": [
       "    kesimpulannya\n",
       "0     tidak lulus\n",
       "1           lulus\n",
       "2           lulus\n",
       "3           lulus\n",
       "4           lulus\n",
       "..            ...\n",
       "102         lulus\n",
       "103   tidak lulus\n",
       "104   tidak lulus\n",
       "105   tidak lulus\n",
       "106   tidak lulus\n",
       "\n",
       "[107 rows x 1 columns]"
      ]
     },
     "execution_count": 40,
     "metadata": {},
     "output_type": "execute_result"
    }
   ],
   "source": [
    "DFNew"
   ]
  }
 ],
 "metadata": {
  "kernelspec": {
   "display_name": ".venv",
   "language": "python",
   "name": "python3"
  },
  "language_info": {
   "codemirror_mode": {
    "name": "ipython",
    "version": 3
   },
   "file_extension": ".py",
   "mimetype": "text/x-python",
   "name": "python",
   "nbconvert_exporter": "python",
   "pygments_lexer": "ipython3",
   "version": "3.11.5"
  }
 },
 "nbformat": 4,
 "nbformat_minor": 2
}
